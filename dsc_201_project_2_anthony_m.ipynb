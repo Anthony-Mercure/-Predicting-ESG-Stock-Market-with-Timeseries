{
 "cells": [
  {
   "cell_type": "markdown",
   "metadata": {
    "id": "P1TcKaVVqAj9"
   },
   "source": [
    "## **Introduction**"
   ]
  },
  {
   "cell_type": "code",
   "execution_count": null,
   "metadata": {
    "id": "qwRTbSBzQDAA"
   },
   "outputs": [],
   "source": [
    "import pandas as pd\n",
    "import numpy as np\n",
    "import matplotlib.pyplot as plt\n",
    "import seaborn as sns\n",
    "import math\n",
    "import time\n",
    "from sklearn.decomposition import PCA\n",
    "from sklearn.model_selection import train_test_split\n",
    "from sklearn.preprocessing import StandardScaler\n",
    "import tensorflow as tf\n",
    "from tensorflow import keras\n",
    "from sklearn.preprocessing import MinMaxScaler\n",
    "from sklearn.metrics import mean_squared_error\n",
    "from tensorflow.keras.models import Sequential\n",
    "from tensorflow.keras.layers import LSTM, GRU, Dense\n",
    "from tensorflow.keras.optimizers import Adam, Adagrad, Nadam"
   ]
  },
  {
   "cell_type": "code",
   "execution_count": null,
   "metadata": {
    "colab": {
     "base_uri": "https://localhost:8080/"
    },
    "id": "dFutTaHzq4qD",
    "outputId": "03834d14-0b8a-43ac-c48e-ea417c2817f3"
   },
   "outputs": [
    {
     "name": "stdout",
     "output_type": "stream",
     "text": [
      "Mounted at /content/drive\n"
     ]
    }
   ],
   "source": [
    "from google.colab import drive\n",
    "drive.mount('/content/drive')"
   ]
  },
  {
   "cell_type": "code",
   "execution_count": null,
   "metadata": {
    "id": "gCriPZiywk45"
   },
   "outputs": [],
   "source": [
    "#data path\n",
    "data_path = \"/content/drive/MyDrive/DSC 101/Data/\""
   ]
  },
  {
   "cell_type": "code",
   "execution_count": null,
   "metadata": {
    "id": "hgLb1w2TxFFs"
   },
   "outputs": [],
   "source": [
    "data = pd.read_csv(data_path +'esg_data.csv')"
   ]
  },
  {
   "cell_type": "code",
   "execution_count": null,
   "metadata": {
    "colab": {
     "base_uri": "https://localhost:8080/",
     "height": 206
    },
    "id": "6cXPH4R2QdcF",
    "outputId": "2b0d07e3-c7fe-449b-824a-14d911f92537"
   },
   "outputs": [
    {
     "data": {
      "text/html": [
       "\n",
       "  <div id=\"df-e3088663-1cf7-4d84-9dbb-eb77228ff28f\" class=\"colab-df-container\">\n",
       "    <div>\n",
       "<style scoped>\n",
       "    .dataframe tbody tr th:only-of-type {\n",
       "        vertical-align: middle;\n",
       "    }\n",
       "\n",
       "    .dataframe tbody tr th {\n",
       "        vertical-align: top;\n",
       "    }\n",
       "\n",
       "    .dataframe thead th {\n",
       "        text-align: right;\n",
       "    }\n",
       "</style>\n",
       "<table border=\"1\" class=\"dataframe\">\n",
       "  <thead>\n",
       "    <tr style=\"text-align: right;\">\n",
       "      <th></th>\n",
       "      <th>Unnamed: 0</th>\n",
       "      <th>Close</th>\n",
       "      <th>MACD</th>\n",
       "      <th>RSI</th>\n",
       "      <th>VIX</th>\n",
       "      <th>USDX</th>\n",
       "      <th>EFFR</th>\n",
       "      <th>UNRATE</th>\n",
       "      <th>UMCSENT</th>\n",
       "      <th>Volatility</th>\n",
       "      <th>SR</th>\n",
       "    </tr>\n",
       "  </thead>\n",
       "  <tbody>\n",
       "    <tr>\n",
       "      <th>0</th>\n",
       "      <td>2013-01-02</td>\n",
       "      <td>124.11</td>\n",
       "      <td>-0.445508</td>\n",
       "      <td>69.046151</td>\n",
       "      <td>14.68</td>\n",
       "      <td>79.849998</td>\n",
       "      <td>0.17</td>\n",
       "      <td>8.0</td>\n",
       "      <td>73.8</td>\n",
       "      <td>3.140429</td>\n",
       "      <td>0.549320</td>\n",
       "    </tr>\n",
       "    <tr>\n",
       "      <th>1</th>\n",
       "      <td>2013-01-03</td>\n",
       "      <td>123.87</td>\n",
       "      <td>-0.618582</td>\n",
       "      <td>66.940960</td>\n",
       "      <td>14.56</td>\n",
       "      <td>80.430000</td>\n",
       "      <td>0.17</td>\n",
       "      <td>8.0</td>\n",
       "      <td>73.8</td>\n",
       "      <td>3.115492</td>\n",
       "      <td>0.603473</td>\n",
       "    </tr>\n",
       "    <tr>\n",
       "      <th>2</th>\n",
       "      <td>2013-01-04</td>\n",
       "      <td>124.44</td>\n",
       "      <td>-0.792603</td>\n",
       "      <td>69.490158</td>\n",
       "      <td>13.83</td>\n",
       "      <td>80.500000</td>\n",
       "      <td>0.16</td>\n",
       "      <td>8.0</td>\n",
       "      <td>73.8</td>\n",
       "      <td>3.106101</td>\n",
       "      <td>0.735961</td>\n",
       "    </tr>\n",
       "    <tr>\n",
       "      <th>3</th>\n",
       "      <td>2013-01-07</td>\n",
       "      <td>124.04</td>\n",
       "      <td>-0.888003</td>\n",
       "      <td>65.406341</td>\n",
       "      <td>13.79</td>\n",
       "      <td>80.260002</td>\n",
       "      <td>0.16</td>\n",
       "      <td>8.0</td>\n",
       "      <td>73.8</td>\n",
       "      <td>3.128793</td>\n",
       "      <td>0.662759</td>\n",
       "    </tr>\n",
       "    <tr>\n",
       "      <th>4</th>\n",
       "      <td>2013-01-08</td>\n",
       "      <td>123.70</td>\n",
       "      <td>-0.925504</td>\n",
       "      <td>61.841891</td>\n",
       "      <td>13.62</td>\n",
       "      <td>80.349998</td>\n",
       "      <td>0.15</td>\n",
       "      <td>8.0</td>\n",
       "      <td>73.8</td>\n",
       "      <td>3.140427</td>\n",
       "      <td>0.535954</td>\n",
       "    </tr>\n",
       "  </tbody>\n",
       "</table>\n",
       "</div>\n",
       "    <div class=\"colab-df-buttons\">\n",
       "\n",
       "  <div class=\"colab-df-container\">\n",
       "    <button class=\"colab-df-convert\" onclick=\"convertToInteractive('df-e3088663-1cf7-4d84-9dbb-eb77228ff28f')\"\n",
       "            title=\"Convert this dataframe to an interactive table.\"\n",
       "            style=\"display:none;\">\n",
       "\n",
       "  <svg xmlns=\"http://www.w3.org/2000/svg\" height=\"24px\" viewBox=\"0 -960 960 960\">\n",
       "    <path d=\"M120-120v-720h720v720H120Zm60-500h600v-160H180v160Zm220 220h160v-160H400v160Zm0 220h160v-160H400v160ZM180-400h160v-160H180v160Zm440 0h160v-160H620v160ZM180-180h160v-160H180v160Zm440 0h160v-160H620v160Z\"/>\n",
       "  </svg>\n",
       "    </button>\n",
       "\n",
       "  <style>\n",
       "    .colab-df-container {\n",
       "      display:flex;\n",
       "      gap: 12px;\n",
       "    }\n",
       "\n",
       "    .colab-df-convert {\n",
       "      background-color: #E8F0FE;\n",
       "      border: none;\n",
       "      border-radius: 50%;\n",
       "      cursor: pointer;\n",
       "      display: none;\n",
       "      fill: #1967D2;\n",
       "      height: 32px;\n",
       "      padding: 0 0 0 0;\n",
       "      width: 32px;\n",
       "    }\n",
       "\n",
       "    .colab-df-convert:hover {\n",
       "      background-color: #E2EBFA;\n",
       "      box-shadow: 0px 1px 2px rgba(60, 64, 67, 0.3), 0px 1px 3px 1px rgba(60, 64, 67, 0.15);\n",
       "      fill: #174EA6;\n",
       "    }\n",
       "\n",
       "    .colab-df-buttons div {\n",
       "      margin-bottom: 4px;\n",
       "    }\n",
       "\n",
       "    [theme=dark] .colab-df-convert {\n",
       "      background-color: #3B4455;\n",
       "      fill: #D2E3FC;\n",
       "    }\n",
       "\n",
       "    [theme=dark] .colab-df-convert:hover {\n",
       "      background-color: #434B5C;\n",
       "      box-shadow: 0px 1px 3px 1px rgba(0, 0, 0, 0.15);\n",
       "      filter: drop-shadow(0px 1px 2px rgba(0, 0, 0, 0.3));\n",
       "      fill: #FFFFFF;\n",
       "    }\n",
       "  </style>\n",
       "\n",
       "    <script>\n",
       "      const buttonEl =\n",
       "        document.querySelector('#df-e3088663-1cf7-4d84-9dbb-eb77228ff28f button.colab-df-convert');\n",
       "      buttonEl.style.display =\n",
       "        google.colab.kernel.accessAllowed ? 'block' : 'none';\n",
       "\n",
       "      async function convertToInteractive(key) {\n",
       "        const element = document.querySelector('#df-e3088663-1cf7-4d84-9dbb-eb77228ff28f');\n",
       "        const dataTable =\n",
       "          await google.colab.kernel.invokeFunction('convertToInteractive',\n",
       "                                                    [key], {});\n",
       "        if (!dataTable) return;\n",
       "\n",
       "        const docLinkHtml = 'Like what you see? Visit the ' +\n",
       "          '<a target=\"_blank\" href=https://colab.research.google.com/notebooks/data_table.ipynb>data table notebook</a>'\n",
       "          + ' to learn more about interactive tables.';\n",
       "        element.innerHTML = '';\n",
       "        dataTable['output_type'] = 'display_data';\n",
       "        await google.colab.output.renderOutput(dataTable, element);\n",
       "        const docLink = document.createElement('div');\n",
       "        docLink.innerHTML = docLinkHtml;\n",
       "        element.appendChild(docLink);\n",
       "      }\n",
       "    </script>\n",
       "  </div>\n",
       "\n",
       "\n",
       "<div id=\"df-4f15dffc-8a01-4086-8415-71f254fb395e\">\n",
       "  <button class=\"colab-df-quickchart\" onclick=\"quickchart('df-4f15dffc-8a01-4086-8415-71f254fb395e')\"\n",
       "            title=\"Suggest charts\"\n",
       "            style=\"display:none;\">\n",
       "\n",
       "<svg xmlns=\"http://www.w3.org/2000/svg\" height=\"24px\"viewBox=\"0 0 24 24\"\n",
       "     width=\"24px\">\n",
       "    <g>\n",
       "        <path d=\"M19 3H5c-1.1 0-2 .9-2 2v14c0 1.1.9 2 2 2h14c1.1 0 2-.9 2-2V5c0-1.1-.9-2-2-2zM9 17H7v-7h2v7zm4 0h-2V7h2v10zm4 0h-2v-4h2v4z\"/>\n",
       "    </g>\n",
       "</svg>\n",
       "  </button>\n",
       "\n",
       "<style>\n",
       "  .colab-df-quickchart {\n",
       "      --bg-color: #E8F0FE;\n",
       "      --fill-color: #1967D2;\n",
       "      --hover-bg-color: #E2EBFA;\n",
       "      --hover-fill-color: #174EA6;\n",
       "      --disabled-fill-color: #AAA;\n",
       "      --disabled-bg-color: #DDD;\n",
       "  }\n",
       "\n",
       "  [theme=dark] .colab-df-quickchart {\n",
       "      --bg-color: #3B4455;\n",
       "      --fill-color: #D2E3FC;\n",
       "      --hover-bg-color: #434B5C;\n",
       "      --hover-fill-color: #FFFFFF;\n",
       "      --disabled-bg-color: #3B4455;\n",
       "      --disabled-fill-color: #666;\n",
       "  }\n",
       "\n",
       "  .colab-df-quickchart {\n",
       "    background-color: var(--bg-color);\n",
       "    border: none;\n",
       "    border-radius: 50%;\n",
       "    cursor: pointer;\n",
       "    display: none;\n",
       "    fill: var(--fill-color);\n",
       "    height: 32px;\n",
       "    padding: 0;\n",
       "    width: 32px;\n",
       "  }\n",
       "\n",
       "  .colab-df-quickchart:hover {\n",
       "    background-color: var(--hover-bg-color);\n",
       "    box-shadow: 0 1px 2px rgba(60, 64, 67, 0.3), 0 1px 3px 1px rgba(60, 64, 67, 0.15);\n",
       "    fill: var(--button-hover-fill-color);\n",
       "  }\n",
       "\n",
       "  .colab-df-quickchart-complete:disabled,\n",
       "  .colab-df-quickchart-complete:disabled:hover {\n",
       "    background-color: var(--disabled-bg-color);\n",
       "    fill: var(--disabled-fill-color);\n",
       "    box-shadow: none;\n",
       "  }\n",
       "\n",
       "  .colab-df-spinner {\n",
       "    border: 2px solid var(--fill-color);\n",
       "    border-color: transparent;\n",
       "    border-bottom-color: var(--fill-color);\n",
       "    animation:\n",
       "      spin 1s steps(1) infinite;\n",
       "  }\n",
       "\n",
       "  @keyframes spin {\n",
       "    0% {\n",
       "      border-color: transparent;\n",
       "      border-bottom-color: var(--fill-color);\n",
       "      border-left-color: var(--fill-color);\n",
       "    }\n",
       "    20% {\n",
       "      border-color: transparent;\n",
       "      border-left-color: var(--fill-color);\n",
       "      border-top-color: var(--fill-color);\n",
       "    }\n",
       "    30% {\n",
       "      border-color: transparent;\n",
       "      border-left-color: var(--fill-color);\n",
       "      border-top-color: var(--fill-color);\n",
       "      border-right-color: var(--fill-color);\n",
       "    }\n",
       "    40% {\n",
       "      border-color: transparent;\n",
       "      border-right-color: var(--fill-color);\n",
       "      border-top-color: var(--fill-color);\n",
       "    }\n",
       "    60% {\n",
       "      border-color: transparent;\n",
       "      border-right-color: var(--fill-color);\n",
       "    }\n",
       "    80% {\n",
       "      border-color: transparent;\n",
       "      border-right-color: var(--fill-color);\n",
       "      border-bottom-color: var(--fill-color);\n",
       "    }\n",
       "    90% {\n",
       "      border-color: transparent;\n",
       "      border-bottom-color: var(--fill-color);\n",
       "    }\n",
       "  }\n",
       "</style>\n",
       "\n",
       "  <script>\n",
       "    async function quickchart(key) {\n",
       "      const quickchartButtonEl =\n",
       "        document.querySelector('#' + key + ' button');\n",
       "      quickchartButtonEl.disabled = true;  // To prevent multiple clicks.\n",
       "      quickchartButtonEl.classList.add('colab-df-spinner');\n",
       "      try {\n",
       "        const charts = await google.colab.kernel.invokeFunction(\n",
       "            'suggestCharts', [key], {});\n",
       "      } catch (error) {\n",
       "        console.error('Error during call to suggestCharts:', error);\n",
       "      }\n",
       "      quickchartButtonEl.classList.remove('colab-df-spinner');\n",
       "      quickchartButtonEl.classList.add('colab-df-quickchart-complete');\n",
       "    }\n",
       "    (() => {\n",
       "      let quickchartButtonEl =\n",
       "        document.querySelector('#df-4f15dffc-8a01-4086-8415-71f254fb395e button');\n",
       "      quickchartButtonEl.style.display =\n",
       "        google.colab.kernel.accessAllowed ? 'block' : 'none';\n",
       "    })();\n",
       "  </script>\n",
       "</div>\n",
       "    </div>\n",
       "  </div>\n"
      ],
      "text/plain": [
       "   Unnamed: 0   Close      MACD        RSI    VIX       USDX  EFFR  UNRATE  \\\n",
       "0  2013-01-02  124.11 -0.445508  69.046151  14.68  79.849998  0.17     8.0   \n",
       "1  2013-01-03  123.87 -0.618582  66.940960  14.56  80.430000  0.17     8.0   \n",
       "2  2013-01-04  124.44 -0.792603  69.490158  13.83  80.500000  0.16     8.0   \n",
       "3  2013-01-07  124.04 -0.888003  65.406341  13.79  80.260002  0.16     8.0   \n",
       "4  2013-01-08  123.70 -0.925504  61.841891  13.62  80.349998  0.15     8.0   \n",
       "\n",
       "   UMCSENT  Volatility        SR  \n",
       "0     73.8    3.140429  0.549320  \n",
       "1     73.8    3.115492  0.603473  \n",
       "2     73.8    3.106101  0.735961  \n",
       "3     73.8    3.128793  0.662759  \n",
       "4     73.8    3.140427  0.535954  "
      ]
     },
     "execution_count": 5,
     "metadata": {},
     "output_type": "execute_result"
    }
   ],
   "source": [
    "data.head()"
   ]
  },
  {
   "cell_type": "code",
   "execution_count": null,
   "metadata": {
    "id": "4AArxsdFaTUw"
   },
   "outputs": [],
   "source": [
    "data['Date'] = data['Unnamed: 0']\n",
    "data.drop(columns=['Unnamed: 0'], inplace=True)"
   ]
  },
  {
   "cell_type": "code",
   "execution_count": null,
   "metadata": {
    "id": "0etyWKQhb12q"
   },
   "outputs": [],
   "source": [
    "data = data.set_index('Date')"
   ]
  },
  {
   "cell_type": "code",
   "execution_count": null,
   "metadata": {
    "colab": {
     "base_uri": "https://localhost:8080/",
     "height": 238
    },
    "id": "k0g27gDeb6_W",
    "outputId": "bd4e2005-04c5-4621-d30b-fa484e25beed"
   },
   "outputs": [
    {
     "data": {
      "text/html": [
       "\n",
       "  <div id=\"df-0c3d6679-9115-454c-8d24-b32c6b7f1428\" class=\"colab-df-container\">\n",
       "    <div>\n",
       "<style scoped>\n",
       "    .dataframe tbody tr th:only-of-type {\n",
       "        vertical-align: middle;\n",
       "    }\n",
       "\n",
       "    .dataframe tbody tr th {\n",
       "        vertical-align: top;\n",
       "    }\n",
       "\n",
       "    .dataframe thead th {\n",
       "        text-align: right;\n",
       "    }\n",
       "</style>\n",
       "<table border=\"1\" class=\"dataframe\">\n",
       "  <thead>\n",
       "    <tr style=\"text-align: right;\">\n",
       "      <th></th>\n",
       "      <th>Close</th>\n",
       "      <th>MACD</th>\n",
       "      <th>RSI</th>\n",
       "      <th>VIX</th>\n",
       "      <th>USDX</th>\n",
       "      <th>EFFR</th>\n",
       "      <th>UNRATE</th>\n",
       "      <th>UMCSENT</th>\n",
       "      <th>Volatility</th>\n",
       "      <th>SR</th>\n",
       "    </tr>\n",
       "    <tr>\n",
       "      <th>Date</th>\n",
       "      <th></th>\n",
       "      <th></th>\n",
       "      <th></th>\n",
       "      <th></th>\n",
       "      <th></th>\n",
       "      <th></th>\n",
       "      <th></th>\n",
       "      <th></th>\n",
       "      <th></th>\n",
       "      <th></th>\n",
       "    </tr>\n",
       "  </thead>\n",
       "  <tbody>\n",
       "    <tr>\n",
       "      <th>2013-01-02</th>\n",
       "      <td>124.11</td>\n",
       "      <td>-0.445508</td>\n",
       "      <td>69.046151</td>\n",
       "      <td>14.68</td>\n",
       "      <td>79.849998</td>\n",
       "      <td>0.17</td>\n",
       "      <td>8.0</td>\n",
       "      <td>73.8</td>\n",
       "      <td>3.140429</td>\n",
       "      <td>0.549320</td>\n",
       "    </tr>\n",
       "    <tr>\n",
       "      <th>2013-01-03</th>\n",
       "      <td>123.87</td>\n",
       "      <td>-0.618582</td>\n",
       "      <td>66.940960</td>\n",
       "      <td>14.56</td>\n",
       "      <td>80.430000</td>\n",
       "      <td>0.17</td>\n",
       "      <td>8.0</td>\n",
       "      <td>73.8</td>\n",
       "      <td>3.115492</td>\n",
       "      <td>0.603473</td>\n",
       "    </tr>\n",
       "    <tr>\n",
       "      <th>2013-01-04</th>\n",
       "      <td>124.44</td>\n",
       "      <td>-0.792603</td>\n",
       "      <td>69.490158</td>\n",
       "      <td>13.83</td>\n",
       "      <td>80.500000</td>\n",
       "      <td>0.16</td>\n",
       "      <td>8.0</td>\n",
       "      <td>73.8</td>\n",
       "      <td>3.106101</td>\n",
       "      <td>0.735961</td>\n",
       "    </tr>\n",
       "    <tr>\n",
       "      <th>2013-01-07</th>\n",
       "      <td>124.04</td>\n",
       "      <td>-0.888003</td>\n",
       "      <td>65.406341</td>\n",
       "      <td>13.79</td>\n",
       "      <td>80.260002</td>\n",
       "      <td>0.16</td>\n",
       "      <td>8.0</td>\n",
       "      <td>73.8</td>\n",
       "      <td>3.128793</td>\n",
       "      <td>0.662759</td>\n",
       "    </tr>\n",
       "    <tr>\n",
       "      <th>2013-01-08</th>\n",
       "      <td>123.70</td>\n",
       "      <td>-0.925504</td>\n",
       "      <td>61.841891</td>\n",
       "      <td>13.62</td>\n",
       "      <td>80.349998</td>\n",
       "      <td>0.15</td>\n",
       "      <td>8.0</td>\n",
       "      <td>73.8</td>\n",
       "      <td>3.140427</td>\n",
       "      <td>0.535954</td>\n",
       "    </tr>\n",
       "  </tbody>\n",
       "</table>\n",
       "</div>\n",
       "    <div class=\"colab-df-buttons\">\n",
       "\n",
       "  <div class=\"colab-df-container\">\n",
       "    <button class=\"colab-df-convert\" onclick=\"convertToInteractive('df-0c3d6679-9115-454c-8d24-b32c6b7f1428')\"\n",
       "            title=\"Convert this dataframe to an interactive table.\"\n",
       "            style=\"display:none;\">\n",
       "\n",
       "  <svg xmlns=\"http://www.w3.org/2000/svg\" height=\"24px\" viewBox=\"0 -960 960 960\">\n",
       "    <path d=\"M120-120v-720h720v720H120Zm60-500h600v-160H180v160Zm220 220h160v-160H400v160Zm0 220h160v-160H400v160ZM180-400h160v-160H180v160Zm440 0h160v-160H620v160ZM180-180h160v-160H180v160Zm440 0h160v-160H620v160Z\"/>\n",
       "  </svg>\n",
       "    </button>\n",
       "\n",
       "  <style>\n",
       "    .colab-df-container {\n",
       "      display:flex;\n",
       "      gap: 12px;\n",
       "    }\n",
       "\n",
       "    .colab-df-convert {\n",
       "      background-color: #E8F0FE;\n",
       "      border: none;\n",
       "      border-radius: 50%;\n",
       "      cursor: pointer;\n",
       "      display: none;\n",
       "      fill: #1967D2;\n",
       "      height: 32px;\n",
       "      padding: 0 0 0 0;\n",
       "      width: 32px;\n",
       "    }\n",
       "\n",
       "    .colab-df-convert:hover {\n",
       "      background-color: #E2EBFA;\n",
       "      box-shadow: 0px 1px 2px rgba(60, 64, 67, 0.3), 0px 1px 3px 1px rgba(60, 64, 67, 0.15);\n",
       "      fill: #174EA6;\n",
       "    }\n",
       "\n",
       "    .colab-df-buttons div {\n",
       "      margin-bottom: 4px;\n",
       "    }\n",
       "\n",
       "    [theme=dark] .colab-df-convert {\n",
       "      background-color: #3B4455;\n",
       "      fill: #D2E3FC;\n",
       "    }\n",
       "\n",
       "    [theme=dark] .colab-df-convert:hover {\n",
       "      background-color: #434B5C;\n",
       "      box-shadow: 0px 1px 3px 1px rgba(0, 0, 0, 0.15);\n",
       "      filter: drop-shadow(0px 1px 2px rgba(0, 0, 0, 0.3));\n",
       "      fill: #FFFFFF;\n",
       "    }\n",
       "  </style>\n",
       "\n",
       "    <script>\n",
       "      const buttonEl =\n",
       "        document.querySelector('#df-0c3d6679-9115-454c-8d24-b32c6b7f1428 button.colab-df-convert');\n",
       "      buttonEl.style.display =\n",
       "        google.colab.kernel.accessAllowed ? 'block' : 'none';\n",
       "\n",
       "      async function convertToInteractive(key) {\n",
       "        const element = document.querySelector('#df-0c3d6679-9115-454c-8d24-b32c6b7f1428');\n",
       "        const dataTable =\n",
       "          await google.colab.kernel.invokeFunction('convertToInteractive',\n",
       "                                                    [key], {});\n",
       "        if (!dataTable) return;\n",
       "\n",
       "        const docLinkHtml = 'Like what you see? Visit the ' +\n",
       "          '<a target=\"_blank\" href=https://colab.research.google.com/notebooks/data_table.ipynb>data table notebook</a>'\n",
       "          + ' to learn more about interactive tables.';\n",
       "        element.innerHTML = '';\n",
       "        dataTable['output_type'] = 'display_data';\n",
       "        await google.colab.output.renderOutput(dataTable, element);\n",
       "        const docLink = document.createElement('div');\n",
       "        docLink.innerHTML = docLinkHtml;\n",
       "        element.appendChild(docLink);\n",
       "      }\n",
       "    </script>\n",
       "  </div>\n",
       "\n",
       "\n",
       "<div id=\"df-be8f48d6-a780-4a4d-90b3-9045c5cc7329\">\n",
       "  <button class=\"colab-df-quickchart\" onclick=\"quickchart('df-be8f48d6-a780-4a4d-90b3-9045c5cc7329')\"\n",
       "            title=\"Suggest charts\"\n",
       "            style=\"display:none;\">\n",
       "\n",
       "<svg xmlns=\"http://www.w3.org/2000/svg\" height=\"24px\"viewBox=\"0 0 24 24\"\n",
       "     width=\"24px\">\n",
       "    <g>\n",
       "        <path d=\"M19 3H5c-1.1 0-2 .9-2 2v14c0 1.1.9 2 2 2h14c1.1 0 2-.9 2-2V5c0-1.1-.9-2-2-2zM9 17H7v-7h2v7zm4 0h-2V7h2v10zm4 0h-2v-4h2v4z\"/>\n",
       "    </g>\n",
       "</svg>\n",
       "  </button>\n",
       "\n",
       "<style>\n",
       "  .colab-df-quickchart {\n",
       "      --bg-color: #E8F0FE;\n",
       "      --fill-color: #1967D2;\n",
       "      --hover-bg-color: #E2EBFA;\n",
       "      --hover-fill-color: #174EA6;\n",
       "      --disabled-fill-color: #AAA;\n",
       "      --disabled-bg-color: #DDD;\n",
       "  }\n",
       "\n",
       "  [theme=dark] .colab-df-quickchart {\n",
       "      --bg-color: #3B4455;\n",
       "      --fill-color: #D2E3FC;\n",
       "      --hover-bg-color: #434B5C;\n",
       "      --hover-fill-color: #FFFFFF;\n",
       "      --disabled-bg-color: #3B4455;\n",
       "      --disabled-fill-color: #666;\n",
       "  }\n",
       "\n",
       "  .colab-df-quickchart {\n",
       "    background-color: var(--bg-color);\n",
       "    border: none;\n",
       "    border-radius: 50%;\n",
       "    cursor: pointer;\n",
       "    display: none;\n",
       "    fill: var(--fill-color);\n",
       "    height: 32px;\n",
       "    padding: 0;\n",
       "    width: 32px;\n",
       "  }\n",
       "\n",
       "  .colab-df-quickchart:hover {\n",
       "    background-color: var(--hover-bg-color);\n",
       "    box-shadow: 0 1px 2px rgba(60, 64, 67, 0.3), 0 1px 3px 1px rgba(60, 64, 67, 0.15);\n",
       "    fill: var(--button-hover-fill-color);\n",
       "  }\n",
       "\n",
       "  .colab-df-quickchart-complete:disabled,\n",
       "  .colab-df-quickchart-complete:disabled:hover {\n",
       "    background-color: var(--disabled-bg-color);\n",
       "    fill: var(--disabled-fill-color);\n",
       "    box-shadow: none;\n",
       "  }\n",
       "\n",
       "  .colab-df-spinner {\n",
       "    border: 2px solid var(--fill-color);\n",
       "    border-color: transparent;\n",
       "    border-bottom-color: var(--fill-color);\n",
       "    animation:\n",
       "      spin 1s steps(1) infinite;\n",
       "  }\n",
       "\n",
       "  @keyframes spin {\n",
       "    0% {\n",
       "      border-color: transparent;\n",
       "      border-bottom-color: var(--fill-color);\n",
       "      border-left-color: var(--fill-color);\n",
       "    }\n",
       "    20% {\n",
       "      border-color: transparent;\n",
       "      border-left-color: var(--fill-color);\n",
       "      border-top-color: var(--fill-color);\n",
       "    }\n",
       "    30% {\n",
       "      border-color: transparent;\n",
       "      border-left-color: var(--fill-color);\n",
       "      border-top-color: var(--fill-color);\n",
       "      border-right-color: var(--fill-color);\n",
       "    }\n",
       "    40% {\n",
       "      border-color: transparent;\n",
       "      border-right-color: var(--fill-color);\n",
       "      border-top-color: var(--fill-color);\n",
       "    }\n",
       "    60% {\n",
       "      border-color: transparent;\n",
       "      border-right-color: var(--fill-color);\n",
       "    }\n",
       "    80% {\n",
       "      border-color: transparent;\n",
       "      border-right-color: var(--fill-color);\n",
       "      border-bottom-color: var(--fill-color);\n",
       "    }\n",
       "    90% {\n",
       "      border-color: transparent;\n",
       "      border-bottom-color: var(--fill-color);\n",
       "    }\n",
       "  }\n",
       "</style>\n",
       "\n",
       "  <script>\n",
       "    async function quickchart(key) {\n",
       "      const quickchartButtonEl =\n",
       "        document.querySelector('#' + key + ' button');\n",
       "      quickchartButtonEl.disabled = true;  // To prevent multiple clicks.\n",
       "      quickchartButtonEl.classList.add('colab-df-spinner');\n",
       "      try {\n",
       "        const charts = await google.colab.kernel.invokeFunction(\n",
       "            'suggestCharts', [key], {});\n",
       "      } catch (error) {\n",
       "        console.error('Error during call to suggestCharts:', error);\n",
       "      }\n",
       "      quickchartButtonEl.classList.remove('colab-df-spinner');\n",
       "      quickchartButtonEl.classList.add('colab-df-quickchart-complete');\n",
       "    }\n",
       "    (() => {\n",
       "      let quickchartButtonEl =\n",
       "        document.querySelector('#df-be8f48d6-a780-4a4d-90b3-9045c5cc7329 button');\n",
       "      quickchartButtonEl.style.display =\n",
       "        google.colab.kernel.accessAllowed ? 'block' : 'none';\n",
       "    })();\n",
       "  </script>\n",
       "</div>\n",
       "    </div>\n",
       "  </div>\n"
      ],
      "text/plain": [
       "             Close      MACD        RSI    VIX       USDX  EFFR  UNRATE  \\\n",
       "Date                                                                      \n",
       "2013-01-02  124.11 -0.445508  69.046151  14.68  79.849998  0.17     8.0   \n",
       "2013-01-03  123.87 -0.618582  66.940960  14.56  80.430000  0.17     8.0   \n",
       "2013-01-04  124.44 -0.792603  69.490158  13.83  80.500000  0.16     8.0   \n",
       "2013-01-07  124.04 -0.888003  65.406341  13.79  80.260002  0.16     8.0   \n",
       "2013-01-08  123.70 -0.925504  61.841891  13.62  80.349998  0.15     8.0   \n",
       "\n",
       "            UMCSENT  Volatility        SR  \n",
       "Date                                       \n",
       "2013-01-02     73.8    3.140429  0.549320  \n",
       "2013-01-03     73.8    3.115492  0.603473  \n",
       "2013-01-04     73.8    3.106101  0.735961  \n",
       "2013-01-07     73.8    3.128793  0.662759  \n",
       "2013-01-08     73.8    3.140427  0.535954  "
      ]
     },
     "execution_count": 8,
     "metadata": {},
     "output_type": "execute_result"
    }
   ],
   "source": [
    "data.head()"
   ]
  },
  {
   "cell_type": "code",
   "execution_count": null,
   "metadata": {
    "colab": {
     "base_uri": "https://localhost:8080/"
    },
    "id": "awUkiQQYQfnX",
    "outputId": "f6d6871d-8159-4415-bfdd-d0b6a9804682"
   },
   "outputs": [
    {
     "name": "stdout",
     "output_type": "stream",
     "text": [
      "<class 'pandas.core.frame.DataFrame'>\n",
      "Index: 2264 entries, 2013-01-02 to 2021-12-30\n",
      "Data columns (total 10 columns):\n",
      " #   Column      Non-Null Count  Dtype  \n",
      "---  ------      --------------  -----  \n",
      " 0   Close       2264 non-null   float64\n",
      " 1   MACD        2264 non-null   float64\n",
      " 2   RSI         2264 non-null   float64\n",
      " 3   VIX         2264 non-null   float64\n",
      " 4   USDX        2264 non-null   float64\n",
      " 5   EFFR        2264 non-null   float64\n",
      " 6   UNRATE      2264 non-null   float64\n",
      " 7   UMCSENT     2264 non-null   float64\n",
      " 8   Volatility  2264 non-null   float64\n",
      " 9   SR          2264 non-null   float64\n",
      "dtypes: float64(10)\n",
      "memory usage: 194.6+ KB\n"
     ]
    }
   ],
   "source": [
    "data.info()"
   ]
  },
  {
   "cell_type": "markdown",
   "metadata": {
    "id": "_GCOQHGaYQI6"
   },
   "source": [
    "## **Data Visualization**"
   ]
  },
  {
   "cell_type": "markdown",
   "metadata": {
    "id": "YA6yepCJYmpR"
   },
   "source": [
    "- Plot the timeseries graph for the response variable (such as close price) and lower triangular correlation matrix."
   ]
  },
  {
   "cell_type": "code",
   "execution_count": null,
   "metadata": {
    "colab": {
     "base_uri": "https://localhost:8080/",
     "height": 564
    },
    "id": "sU60b4u7RE25",
    "outputId": "caf0525e-5870-4aff-9cc3-076afe9abe2e"
   },
   "outputs": [
    {
     "data": {
      "image/png": "[encoded data removed]",
      "text/plain": [
       "<Figure size 1200x600 with 1 Axes>"
      ]
     },
     "metadata": {},
     "output_type": "display_data"
    }
   ],
   "source": [
    "plt.figure(figsize=(12, 6))\n",
    "plt.plot(data['Close'])\n",
    "plt.xlabel('Time')\n",
    "plt.ylabel('Close Price')\n",
    "plt.title('Time Series of Close Price')\n",
    "plt.show()"
   ]
  },
  {
   "cell_type": "code",
   "execution_count": null,
   "metadata": {
    "colab": {
     "base_uri": "https://localhost:8080/",
     "height": 753
    },
    "id": "PyLr1X_MUlib",
    "outputId": "d028655e-249d-4548-991a-0221cb4bd744"
   },
   "outputs": [
    {
     "data": {
      "image/png": "[encoded data removed]",
      "text/plain": [
       "<Figure size 1000x800 with 2 Axes>"
      ]
     },
     "metadata": {},
     "output_type": "display_data"
    }
   ],
   "source": [
    "correlation_matrix = data.corr()\n",
    "mask = np.triu(np.ones_like(correlation_matrix, dtype=bool))\n",
    "plt.figure(figsize=(10, 8))\n",
    "sns.heatmap(correlation_matrix, annot=True, mask=mask, cmap='coolwarm')\n",
    "plt.title('Lower Triangular Correlation Matrix')\n",
    "plt.show()"
   ]
  },
  {
   "cell_type": "markdown",
   "metadata": {
    "id": "eAWWQcs9eZIm"
   },
   "source": [
    "## **Data Normalization, Dimension Reduction using PCA, & Input Preparation**"
   ]
  },
  {
   "cell_type": "code",
   "execution_count": null,
   "metadata": {
    "id": "pwMNU_0z9FYs"
   },
   "outputs": [],
   "source": [
    "scaler = StandardScaler()\n",
    "X_norm = scaler.fit_transform(data)\n"
   ]
  },
  {
   "cell_type": "code",
   "execution_count": null,
   "metadata": {
    "colab": {
     "base_uri": "https://localhost:8080/"
    },
    "id": "NfqfTX0z9kAt",
    "outputId": "47893cf2-37cd-405c-ad6b-3e23e281f0e1"
   },
   "outputs": [
    {
     "data": {
      "text/plain": [
       "(2264, 10)"
      ]
     },
     "execution_count": 17,
     "metadata": {},
     "output_type": "execute_result"
    }
   ],
   "source": [
    "X_norm.shape"
   ]
  },
  {
   "cell_type": "code",
   "execution_count": null,
   "metadata": {
    "id": "DS87l-4E7DGs"
   },
   "outputs": [],
   "source": [
    "pca = PCA(n_components=0.95)"
   ]
  },
  {
   "cell_type": "code",
   "execution_count": null,
   "metadata": {
    "id": "BFqf0Nj56p_J"
   },
   "outputs": [],
   "source": [
    "X = pca.fit_transform(X_norm)\n",
    "X = pca.transform(X_norm)\n",
    "y=data['Close'].values"
   ]
  },
  {
   "cell_type": "code",
   "execution_count": null,
   "metadata": {
    "colab": {
     "base_uri": "https://localhost:8080/"
    },
    "id": "-2DnSLfZ8FHy",
    "outputId": "2ad464a2-e2bc-4152-ea94-07e092eec05e"
   },
   "outputs": [
    {
     "data": {
      "text/plain": [
       "(2264, 7)"
      ]
     },
     "execution_count": 20,
     "metadata": {},
     "output_type": "execute_result"
    }
   ],
   "source": [
    "X.shape"
   ]
  },
  {
   "cell_type": "code",
   "execution_count": null,
   "metadata": {
    "colab": {
     "base_uri": "https://localhost:8080/"
    },
    "id": "R0fTN1a_-X7P",
    "outputId": "d51f48b2-b6f5-4194-8170-2c2ff08d86cc"
   },
   "outputs": [
    {
     "data": {
      "text/plain": [
       "(2264,)"
      ]
     },
     "execution_count": 21,
     "metadata": {},
     "output_type": "execute_result"
    }
   ],
   "source": [
    "y.shape"
   ]
  },
  {
   "cell_type": "code",
   "execution_count": null,
   "metadata": {
    "id": "Dy5BP8bqny8A"
   },
   "outputs": [],
   "source": [
    "def InputOutputCreation(dataX,datay, seq_len = 5):\n",
    "    # dataX and datay are arrays\n",
    "   X, y = [], []\n",
    "   for i in range(len(dataX)- seq_len -1):\n",
    "         a = dataX[i:(i+ seq_len), ]\n",
    "         X.append(a)\n",
    "         y.append(datay[i + seq_len])\n",
    "   return np.array(X), np.array(y)"
   ]
  },
  {
   "cell_type": "code",
   "execution_count": null,
   "metadata": {
    "id": "-78_s19_-cue"
   },
   "outputs": [],
   "source": [
    "X,y=InputOutputCreation(X,y, seq_len = 5)"
   ]
  },
  {
   "cell_type": "code",
   "execution_count": null,
   "metadata": {
    "colab": {
     "base_uri": "https://localhost:8080/"
    },
    "id": "cxWOdscl-na4",
    "outputId": "012d0b7e-2bfa-4141-cad8-409350ed1e07"
   },
   "outputs": [
    {
     "data": {
      "text/plain": [
       "array([[ 0.17108201,  2.602689  , -1.72034031,  0.90675539,  0.76327049,\n",
       "        -0.33318638, -0.45632269],\n",
       "       [ 0.14954154,  2.57618816, -1.68474322,  0.84066189,  0.65547134,\n",
       "        -0.38802043, -0.36463451],\n",
       "       [-0.07169255,  2.65731555, -1.619912  ,  0.96183166,  0.65451032,\n",
       "        -0.34645245, -0.35984074],\n",
       "       [ 0.05639088,  2.60961548, -1.71153956,  0.77752254,  0.61548558,\n",
       "        -0.44975612, -0.3087767 ],\n",
       "       [ 0.20576471,  2.53361238, -1.80272847,  0.58697478,  0.54619505,\n",
       "        -0.51000616, -0.33449783]])"
      ]
     },
     "execution_count": 24,
     "metadata": {},
     "output_type": "execute_result"
    }
   ],
   "source": [
    "X[0]"
   ]
  },
  {
   "cell_type": "code",
   "execution_count": null,
   "metadata": {
    "colab": {
     "base_uri": "https://localhost:8080/"
    },
    "id": "GcRV_BUs-5Dj",
    "outputId": "6bc295c8-fbfa-47a4-89d7-dbab1303264a"
   },
   "outputs": [
    {
     "data": {
      "text/plain": [
       "(2258, 1)"
      ]
     },
     "execution_count": 25,
     "metadata": {},
     "output_type": "execute_result"
    }
   ],
   "source": [
    "y=y.reshape(len(y),1)\n",
    "y.shape"
   ]
  },
  {
   "cell_type": "code",
   "execution_count": null,
   "metadata": {
    "id": "qS_Ut8zA_Kmg"
   },
   "outputs": [],
   "source": [
    "def data_split(X, split = 0.2):\n",
    "  #======= creating training and test data===#\n",
    "  l1   = int(len(X) * (1- split))\n",
    "  l2    = len(X) - l1\n",
    "  train  = X[0:l1]\n",
    "  test   = X[l1:len(X)]\n",
    "  return train, test"
   ]
  },
  {
   "cell_type": "code",
   "execution_count": null,
   "metadata": {
    "id": "-GycYlAj_3Bm"
   },
   "outputs": [],
   "source": [
    "X_train,X_test=data_split(X, split = 0.2)\n",
    "y_train,y_test=data_split(y, split = 0.2)"
   ]
  },
  {
   "cell_type": "code",
   "execution_count": null,
   "metadata": {
    "colab": {
     "base_uri": "https://localhost:8080/"
    },
    "id": "D2bwem2L6bhG",
    "outputId": "091133fd-8406-487a-b37c-026353920164"
   },
   "outputs": [
    {
     "data": {
      "text/plain": [
       "(1806, 5, 7)"
      ]
     },
     "execution_count": 28,
     "metadata": {},
     "output_type": "execute_result"
    }
   ],
   "source": [
    "X_train.shape"
   ]
  },
  {
   "cell_type": "code",
   "execution_count": null,
   "metadata": {
    "colab": {
     "base_uri": "https://localhost:8080/"
    },
    "id": "_o5wBd_MA-Tk",
    "outputId": "43505780-4852-4af6-8e3f-9ef8ec1e5019"
   },
   "outputs": [
    {
     "data": {
      "text/plain": [
       "array([123.95])"
      ]
     },
     "execution_count": 29,
     "metadata": {},
     "output_type": "execute_result"
    }
   ],
   "source": [
    "y_train[0]"
   ]
  },
  {
   "cell_type": "markdown",
   "metadata": {
    "id": "YiYf0hBeemri"
   },
   "source": [
    "## **Model Building**"
   ]
  },
  {
   "cell_type": "code",
   "execution_count": null,
   "metadata": {
    "id": "FsjGdE-8RJQi"
   },
   "outputs": [],
   "source": [
    "def build_lstm_model(neurons,  optimizer='Adam', learning_rate=0.001, verbose=0):\n",
    "    model = Sequential()\n",
    "    model.add(LSTM(neurons, input_shape=(5, 7), return_sequences=True))\n",
    "    model.add(LSTM(neurons))\n",
    "    model.add(Dense(1, activation='linear'))\n",
    "    opt = None\n",
    "    if optimizer == 'Adam':\n",
    "        opt = Adam(learning_rate=learning_rate)\n",
    "    elif optimizer == 'Adagrad':\n",
    "        opt = Adagrad(learning_rate=learning_rate)\n",
    "    elif optimizer == 'Nadam':\n",
    "        opt = Nadam(learning_rate=learning_rate)\n",
    "    model.compile(loss='mean_squared_error', optimizer=opt)\n",
    "    if verbose == 1:\n",
    "        print(model.summary())\n",
    "    return model"
   ]
  },
  {
   "cell_type": "code",
   "execution_count": null,
   "metadata": {
    "id": "4kvba6xrUsDB"
   },
   "outputs": [],
   "source": [
    "def build_gru_model(neurons, optimizer='Adam', learning_rate=0.001, verbose=0):\n",
    "    model = Sequential()\n",
    "    model.add(GRU(neurons, input_shape=(5,7), return_sequences=True))\n",
    "    model.add(GRU(neurons))\n",
    "    model.add(Dense(1, activation='linear'))\n",
    "    opt = None\n",
    "    if optimizer == 'Adam':\n",
    "        opt = Adam(learning_rate=learning_rate)\n",
    "    elif optimizer == 'Adagrad':\n",
    "        opt = Adagrad(learning_rate=learning_rate)\n",
    "    elif optimizer == 'Nadam':\n",
    "        opt = Nadam(learning_rate=learning_rate)\n",
    "    model.compile(loss='mean_squared_error', optimizer=opt)\n",
    "    if verbose == 1:\n",
    "        print(model.summary())\n",
    "    return model"
   ]
  },
  {
   "cell_type": "markdown",
   "metadata": {
    "id": "m4rnPA44jcLm"
   },
   "source": [
    "## **Hyperparameter Tuning**"
   ]
  },
  {
   "cell_type": "markdown",
   "metadata": {
    "id": "MV6XocFk50Jt"
   },
   "source": [
    "###**Hyperparameter Tuning Function**"
   ]
  },
  {
   "cell_type": "code",
   "execution_count": null,
   "metadata": {
    "id": "Mf3H5SW3SjrJ"
   },
   "outputs": [],
   "source": [
    "def hyperparameter_tuning(model_type, neurons, selected_opt,num_replicates=2,epochs=10):\n",
    "    best_model = None\n",
    "    best_avg_rmse = 99999999999\n",
    "\n",
    "    optimizer = selected_opt\n",
    "    learning_rates = [0.1, 0.01, 0.001]\n",
    "    batch_sizes = [4, 8, 16]\n",
    "\n",
    "    for lr in learning_rates:\n",
    "        for batch_size in batch_sizes:\n",
    "            if optimizer == 'Adam':\n",
    "                opt = Adam(learning_rate=lr)\n",
    "            elif optimizer == 'Adagrad':\n",
    "                opt = Adagrad(learning_rate=lr)\n",
    "            else:\n",
    "                opt = Nadam(learning_rate=lr)\n",
    "            avg_rmse = 0.0\n",
    "\n",
    "            for i in range(num_replicates):\n",
    "                print(\"Running for\", model_type, \"with\", neurons, \"neurons,\", optimizer, \"optimizer,\", lr, \"learning rate,\", batch_size, \"batch size, and replicate\", i, \"\\n\")\n",
    "\n",
    "                if model_type == 'LSTM':\n",
    "                    model = build_lstm_model(neurons,  optimizer=optimizer, learning_rate=lr, verbose=0)\n",
    "                else:\n",
    "                    model = build_gru_model(neurons,  optimizer=optimizer, learning_rate=lr, verbose=0)\n",
    "\n",
    "                model.fit(X_train, y_train, epochs=epochs, batch_size=batch_size, verbose=0)\n",
    "                y_pred = model.predict(X_test)\n",
    "                rmse = math.sqrt(mean_squared_error(y_test, y_pred))\n",
    "                print(\"RMSE: \", rmse)\n",
    "                avg_rmse += rmse\n",
    "\n",
    "            avg_rmse /= num_replicates\n",
    "\n",
    "            if avg_rmse < best_avg_rmse:\n",
    "                best_avg_rmse = avg_rmse\n",
    "                best_model = model\n",
    "                best_optimizer = optimizer\n",
    "                best_learning_rate = lr\n",
    "                best_batch_size = batch_size\n",
    "\n",
    "    print(\"Best Model:\", model_type)\n",
    "    print(\"Best Average RMSE:\", best_avg_rmse)\n",
    "    print(\"Best Optimizer:\", best_optimizer)\n",
    "    print(\"Best Learning Rate:\", best_learning_rate)\n",
    "    print(\"Best Batch Size:\", best_batch_size)\n",
    "\n",
    "    return best_model"
   ]
  },
  {
   "cell_type": "code",
   "execution_count": null,
   "metadata": {
    "id": "9YW0WZL6rO0F"
   },
   "outputs": [],
   "source": [
    "# Select only the first 5 features of X_train and X_test\n",
    "X_train = X_train[:, :, :5]\n",
    "X_test = X_test[:, :, :5]"
   ]
  },
  {
   "cell_type": "markdown",
   "metadata": {
    "id": "tTSRoy8Pt2wl"
   },
   "source": [
    "### **Models with 10 Neurons**"
   ]
  },
  {
   "cell_type": "markdown",
   "metadata": {
    "id": "jrFOO6I6TSC6"
   },
   "source": [
    "####LSTM (10)"
   ]
  },
  {
   "cell_type": "code",
   "execution_count": null,
   "metadata": {
    "id": "YvYpNDYIt2wm"
   },
   "outputs": [],
   "source": [
    "best_lstm_models_10_adam = hyperparameter_tuning('LSTM', 10,  'Adam')\n",
    "#Best Model: LSTM\n",
    "#Best Average RMSE: 155.48721361213697\n",
    "#Best Optimizer: Adam\n",
    "#Best Learning Rate: 0.1\n",
    "#Best Batch Size: 16"
   ]
  },
  {
   "cell_type": "code",
   "execution_count": null,
   "metadata": {
    "id": "GbwPHZzit2wn"
   },
   "outputs": [],
   "source": [
    "best_lstm_models_10_adagrad = hyperparameter_tuning('LSTM', 10, 'Adagrad')\n",
    "#Best Model: LSTM\n",
    "#Best Average RMSE: 311.57263664588413\n",
    "#Best Optimizer: Adagrad\n",
    "#Best Learning Rate: 0.1\n",
    "#Best Batch Size: 4"
   ]
  },
  {
   "cell_type": "code",
   "execution_count": null,
   "metadata": {
    "id": "zKPtJREQt2wn"
   },
   "outputs": [],
   "source": [
    "best_lstm_models_10_nadam = hyperparameter_tuning('LSTM', 10, 'Nadam')\n",
    "#Best Model: LSTM\n",
    "#Best Average RMSE: 142.68095383350018\n",
    "#Best Optimizer: Nadam\n",
    "#Best Learning Rate: 0.1\n",
    "#Best Batch Size: 8"
   ]
  },
  {
   "cell_type": "markdown",
   "metadata": {
    "id": "wWJIXn90TVyd"
   },
   "source": [
    "####Best LSTM Optimizer (10)"
   ]
  },
  {
   "cell_type": "code",
   "execution_count": null,
   "metadata": {
    "colab": {
     "base_uri": "https://localhost:8080/"
    },
    "id": "ZCFjwykK7QoX",
    "outputId": "5a7d177e-56b9-4949-a58b-de456f15d1dc"
   },
   "outputs": [
    {
     "name": "stdout",
     "output_type": "stream",
     "text": [
      "Best RMSE for 10 Neuron LSTM Adam: 155.48721361213697\n",
      "Best RMSE for 10 Neuron LSTM Adagrad: 311.57263664588413\n",
      "Best RMSE for 10 Neuron LSTM Nadam: 142.68095383350018\n",
      "The best model for 10 neurons uses the Nadam optimizer.\n"
     ]
    }
   ],
   "source": [
    "best_lstm_model_10 = []\n",
    "\n",
    "model_result1 = float(input(\"Best RMSE for 10 Neuron LSTM Adam: \")) #155.48721361213697\n",
    "best_lstm_model_10.append(model_result1)\n",
    "model_result2 = float(input(\"Best RMSE for 10 Neuron LSTM Adagrad: \"))  #311.57263664588413\n",
    "best_lstm_model_10.append(model_result2)\n",
    "model_result3 = float(input(\"Best RMSE for 10 Neuron LSTM Nadam: \"))  #142.68095383350018\n",
    "best_lstm_model_10.append(model_result3)\n",
    "\n",
    "best_lstm_10 = min(best_lstm_model_10)\n",
    "\n",
    "if best_lstm_10 == best_lstm_model_10[0]:\n",
    "    print(\"The best model for 10 neurons uses the Adam optimizer.\")\n",
    "elif best_lstm_10 == best_lstm_model_10[1]:\n",
    "    print(\"The best model for 10 neurons uses the Adagrad optimizer.\")\n",
    "elif best_lstm_10 == best_lstm_model_10[2]:\n",
    "    print(\"The best model for 10 neurons uses the Nadam optimizer.\")"
   ]
  },
  {
   "cell_type": "markdown",
   "metadata": {
    "id": "ouEzpRm6SW70"
   },
   "source": [
    "####GRU (10)"
   ]
  },
  {
   "cell_type": "code",
   "execution_count": null,
   "metadata": {
    "id": "4kG7qe3ESW8B"
   },
   "outputs": [],
   "source": [
    "best_gru_models_10_adam = hyperparameter_tuning('GRU', 10,  'Adam')\n",
    "#Best Model: GRU\n",
    "#Best Average RMSE: 171.36243631449022\n",
    "#Best Optimizer: Adam\n",
    "#Best Learning Rate: 0.01\n",
    "#Best Batch Size: 4"
   ]
  },
  {
   "cell_type": "code",
   "execution_count": null,
   "metadata": {
    "id": "gWrUvGtPSW8B"
   },
   "outputs": [],
   "source": [
    "best_gru_models_10_adagrad = hyperparameter_tuning('GRU', 10,  'Adagrad')\n",
    "#Best Model: GRU\n",
    "#Best Average RMSE: 324.04125858280855\n",
    "#Best Optimizer: Adagrad\n",
    "#Best Learning Rate: 0.01\n",
    "#Best Batch Size: 4"
   ]
  },
  {
   "cell_type": "code",
   "execution_count": null,
   "metadata": {
    "id": "ORZFDT5ISW8B"
   },
   "outputs": [],
   "source": [
    "best_gru_models_10_nadam = hyperparameter_tuning('GRU', 10,'Nadam')\n",
    "#Best Model: GRU\n",
    "#Best Average RMSE: 158.7877275115537\n",
    "#Best Optimizer: Nadam\n",
    "#Best Learning Rate: 0.01\n",
    "#Best Batch Size: 4"
   ]
  },
  {
   "cell_type": "markdown",
   "metadata": {
    "id": "ynQmkK8_e5DH"
   },
   "source": [
    "####Best GRU Optimizer (10)"
   ]
  },
  {
   "cell_type": "code",
   "execution_count": null,
   "metadata": {
    "colab": {
     "base_uri": "https://localhost:8080/"
    },
    "id": "aOgqikabe5DI",
    "outputId": "d3a8fb1c-0edd-4bb4-d577-1b70823e408c"
   },
   "outputs": [
    {
     "name": "stdout",
     "output_type": "stream",
     "text": [
      "Best RMSE for 10 Neuron GRU Adam: 171.36243631449022\n",
      "Best RMSE for 10 Neuron GRU Adagrad: 324.04125858280855\n",
      "Best RMSE for 10 Neuron GRU Nadam: 158.7877275115537\n",
      "The best model for 10 neurons uses the Nadam optimizer.\n"
     ]
    }
   ],
   "source": [
    "best_gru_model_10 = []\n",
    "\n",
    "model_result1 = float(input(\"Best RMSE for 10 Neuron GRU Adam: \")) #171.36243631449022\n",
    "best_gru_model_10.append(model_result1)\n",
    "model_result2 = float(input(\"Best RMSE for 10 Neuron GRU Adagrad: \"))  #324.04125858280855\n",
    "best_gru_model_10.append(model_result2)\n",
    "model_result3 = float(input(\"Best RMSE for 10 Neuron GRU Nadam: \"))  #158.7877275115537\n",
    "best_gru_model_10.append(model_result3)\n",
    "\n",
    "best_gru_10 = min(best_gru_model_10)\n",
    "\n",
    "if best_gru_10 == best_gru_model_10[0]:\n",
    "    print(\"The best model for 10 neurons uses the Adam optimizer.\")\n",
    "elif best_gru_10 == best_gru_model_10[1]:\n",
    "    print(\"The best model for 10 neurons uses the Adagrad optimizer.\")\n",
    "elif best_gru_10 == best_gru_model_10[2]:\n",
    "    print(\"The best model for 10 neurons uses the Nadam optimizer.\")"
   ]
  },
  {
   "cell_type": "markdown",
   "metadata": {
    "id": "rWbuuMDStWfQ"
   },
   "source": [
    "### **Models with 30 Neurons**"
   ]
  },
  {
   "cell_type": "markdown",
   "metadata": {
    "id": "rXv3qS3xT2Vh"
   },
   "source": [
    "####LSTM (30)"
   ]
  },
  {
   "cell_type": "code",
   "execution_count": null,
   "metadata": {
    "id": "2Lfqj4w1dWTO"
   },
   "outputs": [],
   "source": [
    "best_lstm_models_30_adam = hyperparameter_tuning('LSTM', 30,  'Adam')\n",
    "#Best Model: LSTM\n",
    "#Best Average RMSE: 162.44231177565382\n",
    "#Best Optimizer: Adam\n",
    "#Best Learning Rate: 0.1\n",
    "#Best Batch Size: 8"
   ]
  },
  {
   "cell_type": "code",
   "execution_count": null,
   "metadata": {
    "id": "Ng31iLWudWTP"
   },
   "outputs": [],
   "source": [
    "best_lstm_models_30_adagrad = hyperparameter_tuning('LSTM', 30, 'Adagrad')\n",
    "#Best Model: LSTM\n",
    "#Best Average RMSE: 262.9979513488638\n",
    "#Best Optimizer: Adagrad\n",
    "#Best Learning Rate: 0.1\n",
    "#Best Batch Size: 4"
   ]
  },
  {
   "cell_type": "code",
   "execution_count": null,
   "metadata": {
    "id": "s6hxulWZdWTQ"
   },
   "outputs": [],
   "source": [
    "best_lstm_models_30_nadam = hyperparameter_tuning('LSTM', 30, 'Nadam')\n",
    "#Best Model: LSTM\n",
    "#Best Average RMSE: 148.99000663959598\n",
    "#Best Optimizer: Nadam\n",
    "#Best Learning Rate: 0.1\n",
    "#Best Batch Size: 8"
   ]
  },
  {
   "cell_type": "markdown",
   "metadata": {
    "id": "8--Mae64fzbn"
   },
   "source": [
    "####Best LSTM Optimizer (30)"
   ]
  },
  {
   "cell_type": "code",
   "execution_count": null,
   "metadata": {
    "colab": {
     "base_uri": "https://localhost:8080/"
    },
    "id": "GWmWWooKfzbo",
    "outputId": "59de1755-2ae0-4774-d05a-b53504c81a16"
   },
   "outputs": [
    {
     "name": "stdout",
     "output_type": "stream",
     "text": [
      "Best RMSE for 30 Neuron LSTM Adam: 162.44231177565382\n",
      "Best RMSE for 30 Neuron LSTM Adagrad: 262.9979513488638\n",
      "Best RMSE for 30 Neuron LSTM Nadam: 148.99000663959598\n",
      "The best model for 30 neurons uses the Nadam optimizer.\n"
     ]
    }
   ],
   "source": [
    "best_lstm_model_30 = []\n",
    "\n",
    "model_result1 = float(input(\"Best RMSE for 30 Neuron LSTM Adam: \")) #162.44231177565382\n",
    "best_lstm_model_30.append(model_result1)\n",
    "model_result2 = float(input(\"Best RMSE for 30 Neuron LSTM Adagrad: \"))  #262.9979513488638\n",
    "best_lstm_model_30.append(model_result2)\n",
    "model_result3 = float(input(\"Best RMSE for 30 Neuron LSTM Nadam: \"))  #148.99000663959598\n",
    "best_lstm_model_30.append(model_result3)\n",
    "\n",
    "best_lstm_30 = min(best_lstm_model_30)\n",
    "\n",
    "if best_lstm_30 == best_lstm_model_30[0]:\n",
    "    print(\"The best model for 30 neurons uses the Adam optimizer.\")\n",
    "elif best_lstm_30 == best_lstm_model_30[1]:\n",
    "    print(\"The best model for 30 neurons uses the Adagrad optimizer.\")\n",
    "elif best_lstm_30 == best_lstm_model_30[2]:\n",
    "    print(\"The best model for 30 neurons uses the Nadam optimizer.\")"
   ]
  },
  {
   "cell_type": "markdown",
   "metadata": {
    "id": "xWysLc1GSRDg"
   },
   "source": [
    "####GRU (30)"
   ]
  },
  {
   "cell_type": "code",
   "execution_count": null,
   "metadata": {
    "id": "zUyEfSJ6SRDt"
   },
   "outputs": [],
   "source": [
    "best_gru_models_30_adam = hyperparameter_tuning('GRU', 30,  'Adam')\n",
    "#Best Model: GRU\n",
    "#Best Average RMSE: 176.21543890232704\n",
    "#Best Optimizer: Adam\n",
    "#Best Learning Rate: 0.01\n",
    "#Best Batch Size: 4"
   ]
  },
  {
   "cell_type": "code",
   "execution_count": null,
   "metadata": {
    "id": "q99Z94YNSRDu"
   },
   "outputs": [],
   "source": [
    "best_gru_models_30_adagrad = hyperparameter_tuning('GRU', 30,  'Adagrad')\n",
    "#Best Model: GRU\n",
    "#Best Average RMSE: 296.2097561677226\n",
    "#Best Optimizer: Adagrad\n",
    "#Best Learning Rate: 0.1\n",
    "#Best Batch Size: 4"
   ]
  },
  {
   "cell_type": "code",
   "execution_count": null,
   "metadata": {
    "id": "8N_HxJ2hSRDu"
   },
   "outputs": [],
   "source": [
    "best_gru_models_30_nadam = hyperparameter_tuning('GRU', 30,'Nadam')\n",
    "#Best Model: GRU\n",
    "#Best Average RMSE: 172.27813856841678\n",
    "#Best Optimizer: Nadam\n",
    "#Best Learning Rate: 0.01\n",
    "#Best Batch Size: 4"
   ]
  },
  {
   "cell_type": "markdown",
   "metadata": {
    "id": "V_OFeBMEPgQj"
   },
   "source": [
    "####Best GRU Optimizer (30)"
   ]
  },
  {
   "cell_type": "code",
   "execution_count": null,
   "metadata": {
    "colab": {
     "base_uri": "https://localhost:8080/"
    },
    "id": "hKT8pbda_toK",
    "outputId": "49c0a8dc-4954-4fa9-d95d-46dd242e765e"
   },
   "outputs": [
    {
     "name": "stdout",
     "output_type": "stream",
     "text": [
      "Best RMSE for 30 Neuron GRU Adam: 176.21543890232704\n",
      "Best RMSE for 30 Neuron GRU Adagrad: 296.2097561677226\n",
      "Best RMSE for 30 Neuron GRU Nadam: 172.27813856841678\n",
      "The best model for GRU of 30 neurons uses the Nadam optimizer.\n"
     ]
    }
   ],
   "source": [
    "best_gru_model_30 = []\n",
    "\n",
    "model_result1 = float(input(\"Best RMSE for 30 Neuron GRU Adam: \"))  #176.21543890232704\n",
    "best_gru_model_30.append(model_result1)\n",
    "model_result2 = float(input(\"Best RMSE for 30 Neuron GRU Adagrad: \")) #296.2097561677226\n",
    "best_gru_model_30.append(model_result2)\n",
    "model_result3 = float(input(\"Best RMSE for 30 Neuron GRU Nadam: \")) #172.27813856841678\n",
    "best_gru_model_30.append(model_result3)\n",
    "\n",
    "best_gru_30 = min(best_gru_model_30)\n",
    "\n",
    "if best_gru_30 == best_gru_model_30[0]:\n",
    "    print(\"The best model for GRU of 30 neurons uses the Adam optimizer.\")\n",
    "elif best_gru_30 == best_gru_model_30[1]:\n",
    "    print(\"The best model for GRU of 30 neurons uses the Adagrad optimizer.\")\n",
    "elif best_gru_30 == best_gru_model_30[2]:\n",
    "    print(\"The best model for GRU of 30 neurons uses the Nadam optimizer.\")"
   ]
  },
  {
   "cell_type": "markdown",
   "metadata": {
    "id": "WE-VQetBtu-R"
   },
   "source": [
    "### **Models with 50 Neurons**"
   ]
  },
  {
   "cell_type": "markdown",
   "metadata": {
    "id": "Dq120fSTUTt5"
   },
   "source": [
    "####LSTM (50)"
   ]
  },
  {
   "cell_type": "code",
   "execution_count": null,
   "metadata": {
    "id": "kJBMmHWBtu-i"
   },
   "outputs": [],
   "source": [
    "best_lstm_models_50_adam = hyperparameter_tuning('LSTM', 50,  'Adam')\n",
    "#Best Model: LSTM\n",
    "#Best Average RMSE: 142.4504570307747\n",
    "#Best Optimizer: Adam\n",
    "#Best Learning Rate: 0.1\n",
    "#Best Batch Size: 8"
   ]
  },
  {
   "cell_type": "code",
   "execution_count": null,
   "metadata": {
    "id": "ahWVYiACtu-i"
   },
   "outputs": [],
   "source": [
    "best_lstm_models_50_adagrad = hyperparameter_tuning('LSTM', 50, 'Adagrad')\n",
    "#Best Model: LSTM\n",
    "#Best Average RMSE: 256.7541159386036\n",
    "#Best Optimizer: Adagrad\n",
    "#Best Learning Rate: 0.1\n",
    "#Best Batch Size: 4"
   ]
  },
  {
   "cell_type": "code",
   "execution_count": null,
   "metadata": {
    "id": "23j1wc7-tu-j"
   },
   "outputs": [],
   "source": [
    "best_lstm_models_50_nadam = hyperparameter_tuning('LSTM', 50,  'Nadam')\n",
    "#Best Model: LSTM\n",
    "#Best Average RMSE: 156.99712404150438\n",
    "#Best Optimizer: Nadam\n",
    "#Best Learning Rate: 0.1\n",
    "#Best Batch Size: 16"
   ]
  },
  {
   "cell_type": "markdown",
   "metadata": {
    "id": "pMGiasQqUWf8"
   },
   "source": [
    "####Best LSTM Optimizer (50)"
   ]
  },
  {
   "cell_type": "code",
   "execution_count": null,
   "metadata": {
    "colab": {
     "base_uri": "https://localhost:8080/"
    },
    "id": "-K7yqHYdApP3",
    "outputId": "271e2318-a386-49f0-d6e2-d32769810516"
   },
   "outputs": [
    {
     "name": "stdout",
     "output_type": "stream",
     "text": [
      "Best RMSE for 50 Neuron LSTM Adam: 142.4504570307747\n",
      "Best RMSE for 50 Neuron LSTM Adagrad: 256.7541159386036\n",
      "Best RMSE for 50 Neuron LSTM Nadam: 156.99712404150438\n",
      "The best model for 50 neurons uses the Adam optimizer.\n"
     ]
    }
   ],
   "source": [
    "best_lstm_model_50 = []\n",
    "\n",
    "model_result1 = float(input(\"Best RMSE for 50 Neuron LSTM Adam: \")) #142.4504570307747\n",
    "best_lstm_model_50.append(model_result1)\n",
    "model_result2 = float(input(\"Best RMSE for 50 Neuron LSTM Adagrad: \"))  #256.7541159386036\n",
    "best_lstm_model_50.append(model_result2)\n",
    "model_result3 = float(input(\"Best RMSE for 50 Neuron LSTM Nadam: \"))  #156.99712404150438\n",
    "best_lstm_model_50.append(model_result3)\n",
    "\n",
    "best_lstm_50 = min(best_lstm_model_50)\n",
    "\n",
    "if best_lstm_50 == best_lstm_model_50[0]:\n",
    "    print(\"The best model for 50 neurons uses the Adam optimizer.\")\n",
    "elif best_lstm_50 == best_lstm_model_50[1]:\n",
    "    print(\"The best model for 50 neurons uses the Adagrad optimizer.\")\n",
    "elif best_lstm_50 == best_lstm_model_50[2]:\n",
    "    print(\"The best model for 50 neurons uses the Nadam optimizer.\")"
   ]
  },
  {
   "cell_type": "markdown",
   "metadata": {
    "id": "cr6ArzOOU0VO"
   },
   "source": [
    "####GRU (50)"
   ]
  },
  {
   "cell_type": "code",
   "execution_count": null,
   "metadata": {
    "id": "qsMA4wgctu-j"
   },
   "outputs": [],
   "source": [
    "best_gru_models_50_adam = hyperparameter_tuning('GRU', 50,  'Adam')\n",
    "#Best Model: GRU\n",
    "#Best Average RMSE: 192.2821991297576\n",
    "#Best Optimizer: Adam\n",
    "#Best Learning Rate: 0.1\n",
    "#Best Batch Size: 4"
   ]
  },
  {
   "cell_type": "code",
   "execution_count": null,
   "metadata": {
    "id": "j-YOBQ3Dtu-j"
   },
   "outputs": [],
   "source": [
    "best_gru_models_50_adagrad = hyperparameter_tuning('GRU', 50,  'Adagrad')\n",
    "#Best Model: GRU\n",
    "#Best Average RMSE: 275.5211954929883\n",
    "#Best Optimizer: Adagrad\n",
    "#Best Learning Rate: 0.1\n",
    "#Best Batch Size: 4"
   ]
  },
  {
   "cell_type": "code",
   "execution_count": null,
   "metadata": {
    "id": "2_JgXuENtu-j"
   },
   "outputs": [],
   "source": [
    "best_gru_models_50_nadam = hyperparameter_tuning('GRU', 50,'Nadam')\n",
    "#Best Model: GRU\n",
    "#Best Average RMSE: 158.42462003623356\n",
    "#Best Optimizer: Nadam\n",
    "#Best Learning Rate: 0.01\n",
    "#Best Batch Size: 4"
   ]
  },
  {
   "cell_type": "markdown",
   "metadata": {
    "id": "-i33clMIR2jm"
   },
   "source": [
    "####Best GRU Optimizer (50)"
   ]
  },
  {
   "cell_type": "code",
   "execution_count": null,
   "metadata": {
    "colab": {
     "base_uri": "https://localhost:8080/"
    },
    "id": "1l_XcUeZApP4",
    "outputId": "9646a7b4-dab9-4015-d479-00afdbe99ef3"
   },
   "outputs": [
    {
     "name": "stdout",
     "output_type": "stream",
     "text": [
      "Best RMSE for 50 Neuron GRU Adam: 192.2821991297576\n",
      "Best RMSE for 50 Neuron GRU Adagrad: 275.5211954929883\n",
      "Best RMSE for 50 Neuron GRU Nadam: 158.42462003623356\n",
      "The best model for GRU of 50 neurons uses the Nadam optimizer.\n"
     ]
    }
   ],
   "source": [
    "best_gru_model_50 = []\n",
    "\n",
    "model_result1 = float(input(\"Best RMSE for 50 Neuron GRU Adam: \"))  #192.2821991297576\n",
    "best_gru_model_50.append(model_result1)\n",
    "model_result2 = float(input(\"Best RMSE for 50 Neuron GRU Adagrad: \")) #275.5211954929883\n",
    "best_gru_model_50.append(model_result2)\n",
    "model_result3 = float(input(\"Best RMSE for 50 Neuron GRU Nadam: \")) #158.42462003623356\n",
    "best_gru_model_50.append(model_result3)\n",
    "\n",
    "best_gru_50 = min(best_gru_model_50)\n",
    "\n",
    "if best_gru_50 == best_gru_model_50[0]:\n",
    "    print(\"The best model for GRU of 50 neurons uses the Adam optimizer.\")\n",
    "elif best_gru_50 == best_gru_model_50[1]:\n",
    "    print(\"The best model for GRU of 50 neurons uses the Adagrad optimizer.\")\n",
    "elif best_gru_50 == best_gru_model_50[2]:\n",
    "    print(\"The best model for GRU of 50 neurons uses the Nadam optimizer.\")"
   ]
  },
  {
   "cell_type": "markdown",
   "metadata": {
    "id": "MnZvQ0_Ttv4r"
   },
   "source": [
    "### **Models with 100 Neurons**"
   ]
  },
  {
   "cell_type": "markdown",
   "metadata": {
    "id": "0CgnvzOiU6J4"
   },
   "source": [
    "####LSTM (100)"
   ]
  },
  {
   "cell_type": "code",
   "execution_count": null,
   "metadata": {
    "id": "lzvI3XpOtv4r"
   },
   "outputs": [],
   "source": [
    "best_lstm_models_100_adam = hyperparameter_tuning('LSTM', 100,  'Adam')\n",
    "#Best Model: LSTM\n",
    "#Best Average RMSE: 156.87732482995793\n",
    "#Best Optimizer: Adam\n",
    "#Best Learning Rate: 0.1\n",
    "#Best Batch Size: 4"
   ]
  },
  {
   "cell_type": "code",
   "execution_count": null,
   "metadata": {
    "id": "cdwp0vk6tv4s"
   },
   "outputs": [],
   "source": [
    "best_lstm_models_100_adagrad = hyperparameter_tuning('LSTM', 100, 'Adagrad')\n",
    "#Best Model: LSTM\n",
    "#Best Average RMSE: 229.28468121950863\n",
    "#Best Optimizer: Adagrad\n",
    "#Best Learning Rate: 0.1\n",
    "#Best Batch Size: 8"
   ]
  },
  {
   "cell_type": "code",
   "execution_count": null,
   "metadata": {
    "id": "6bZzBjIotv4s"
   },
   "outputs": [],
   "source": [
    "best_lstm_models_100_nadam = hyperparameter_tuning('LSTM', 100,  'Nadam')\n",
    "#Best Model: LSTM\n",
    "#Best Average RMSE: 119.15147336133055\n",
    "#Best Optimizer: Nadam\n",
    "#Best Learning Rate: 0.01\n",
    "#Best Batch Size: 4"
   ]
  },
  {
   "cell_type": "markdown",
   "metadata": {
    "id": "TmFi5s81U-G7"
   },
   "source": [
    "####Best LSTM Optimizer (100)"
   ]
  },
  {
   "cell_type": "code",
   "execution_count": null,
   "metadata": {
    "colab": {
     "base_uri": "https://localhost:8080/"
    },
    "id": "z4nITE1VA5zF",
    "outputId": "7e19c518-d41d-49da-b7a5-1b965705a2cb"
   },
   "outputs": [
    {
     "name": "stdout",
     "output_type": "stream",
     "text": [
      "Best RMSE for 100 Neuron LSTM Adam: 156.87732482995793\n",
      "Best RMSE for 100 Neuron LSTM Adagrad: 229.28468121950863\n",
      "Best RMSE for 100 Neuron LSTM Nadam: 119.15147336133055\n",
      "The best model for 100 neurons uses the Nadam optimizer.\n"
     ]
    }
   ],
   "source": [
    "best_lstm_model_100 = []\n",
    "\n",
    "model_result1 = float(input(\"Best RMSE for 100 Neuron LSTM Adam: \"))  #156.87732482995793\n",
    "best_lstm_model_100.append(model_result1)\n",
    "model_result2 = float(input(\"Best RMSE for 100 Neuron LSTM Adagrad: \")) #229.28468121950863\n",
    "best_lstm_model_100.append(model_result2)\n",
    "model_result3 = float(input(\"Best RMSE for 100 Neuron LSTM Nadam: \")) #119.15147336133055\n",
    "best_lstm_model_100.append(model_result3)\n",
    "\n",
    "best_lstm_100 = min(best_lstm_model_100)\n",
    "\n",
    "if best_lstm_100 == best_lstm_model_100[0]:\n",
    "    print(\"The best model for 100 neurons uses the Adam optimizer.\")\n",
    "elif best_lstm_100 == best_lstm_model_100[1]:\n",
    "    print(\"The best model for 100 neurons uses the Adagrad optimizer.\")\n",
    "elif best_lstm_100 == best_lstm_model_100[2]:\n",
    "    print(\"The best model for 100 neurons uses the Nadam optimizer.\")"
   ]
  },
  {
   "cell_type": "markdown",
   "metadata": {
    "id": "rjByVI0TVQfD"
   },
   "source": [
    "####GRU (100)"
   ]
  },
  {
   "cell_type": "code",
   "execution_count": null,
   "metadata": {
    "id": "na1h3ZrOtv4s"
   },
   "outputs": [],
   "source": [
    "best_gru_models_100_adam = hyperparameter_tuning('GRU', 100, 'Adam')\n",
    "#Best Model: GRU\n",
    "#Best Average RMSE: 242.66564896913215\n",
    "#Best Optimizer: Adam\n",
    "#Best Learning Rate: 0.1\n",
    "#Best Batch Size: 16"
   ]
  },
  {
   "cell_type": "code",
   "execution_count": null,
   "metadata": {
    "id": "ptR0ZSn_tv4s"
   },
   "outputs": [],
   "source": [
    "best_gru_models_100_adagrad = hyperparameter_tuning('GRU', 100,  'Adagrad')\n",
    "#Best Model: GRU\n",
    "#Best Average RMSE: 224.55261235803272\n",
    "#Best Optimizer: Adagrad\n",
    "#Best Learning Rate: 0.1\n",
    "#Best Batch Size: 4"
   ]
  },
  {
   "cell_type": "code",
   "execution_count": null,
   "metadata": {
    "id": "vxOw7pyhtv4s"
   },
   "outputs": [],
   "source": [
    "best_gru_models_100_nadam = hyperparameter_tuning('GRU', 100, 'Nadam')"
   ]
  },
  {
   "cell_type": "markdown",
   "metadata": {
    "id": "rTR7vHidQXbH"
   },
   "source": [
    "####Best GRU Optimizer (100)"
   ]
  },
  {
   "cell_type": "code",
   "execution_count": null,
   "metadata": {
    "colab": {
     "base_uri": "https://localhost:8080/"
    },
    "id": "iAGsvGqIA5zG",
    "outputId": "7b9f2ac9-b66a-48a6-c727-2b5f4148be1c"
   },
   "outputs": [
    {
     "name": "stdout",
     "output_type": "stream",
     "text": [
      "Best RMSE for 100 Neuron GRU Adam: 242.66564896913215\n",
      "Best RMSE for 100 Neuron GRU Adagrad: 224.55261235803272\n",
      "Best RMSE for 100 Neuron GRU Nadam: 228.6857154643481\n",
      "The best model for GRU of 100 neurons uses the Adagrad optimizer.\n"
     ]
    }
   ],
   "source": [
    "best_gru_model_100 = []\n",
    "\n",
    "model_result1 = float(input(\"Best RMSE for 100 Neuron GRU Adam: \")) #242.66564896913215\n",
    "best_gru_model_100.append(model_result1)\n",
    "model_result2 = float(input(\"Best RMSE for 100 Neuron GRU Adagrad: \"))  #224.55261235803272\n",
    "best_gru_model_100.append(model_result2)\n",
    "model_result3 = float(input(\"Best RMSE for 100 Neuron GRU Nadam: \"))  #228.6857154643481\n",
    "best_gru_model_100.append(model_result3)\n",
    "\n",
    "best_gru_100 = min(best_gru_model_100)\n",
    "\n",
    "if best_gru_100 == best_gru_model_100[0]:\n",
    "    print(\"The best model for GRU of 100 neurons uses the Adam optimizer.\")\n",
    "elif best_gru_100 == best_gru_model_100[1]:\n",
    "    print(\"The best model for GRU of 100 neurons uses the Adagrad optimizer.\")\n",
    "elif best_gru_100 == best_gru_model_100[2]:\n",
    "    print(\"The best model for GRU of 100 neurons uses the Nadam optimizer.\")"
   ]
  },
  {
   "cell_type": "markdown",
   "metadata": {
    "id": "M3tgrhoTuRLj"
   },
   "source": [
    "### **Models with 150 Neurons**"
   ]
  },
  {
   "cell_type": "markdown",
   "metadata": {
    "id": "JVJX1hklVZU2"
   },
   "source": [
    "####LSTM (150)"
   ]
  },
  {
   "cell_type": "code",
   "execution_count": null,
   "metadata": {
    "id": "reWxVi3yt2yt"
   },
   "outputs": [],
   "source": [
    "best_lstm_models_150_adam = hyperparameter_tuning('LSTM', 150,  'Adam')\n",
    "#Best Model: LSTM\n",
    "#Best Average RMSE: 129.3791760222216\n",
    "#Best Optimizer: Adam\n",
    "#Best Learning Rate: 0.01\n",
    "#Best Batch Size: 4"
   ]
  },
  {
   "cell_type": "code",
   "execution_count": null,
   "metadata": {
    "id": "tzhzHyzKt2y6"
   },
   "outputs": [],
   "source": [
    "best_lstm_models_150_adagrad = hyperparameter_tuning('LSTM', 150, 'Adagrad')\n",
    "#Best Model: LSTM\n",
    "#Best Average RMSE: 179.5527018451729\n",
    "#Best Optimizer: Adagrad\n",
    "#Best Learning Rate: 0.1\n",
    "#Best Batch Size: 4"
   ]
  },
  {
   "cell_type": "code",
   "execution_count": null,
   "metadata": {
    "id": "Pq-3nfaE0cs8"
   },
   "outputs": [],
   "source": [
    "best_lstm_models_150_nadam = hyperparameter_tuning('LSTM', 150,  'Nadam')\n",
    "#Best Model: LSTM\n",
    "#Best Average RMSE: 131.9211405482529\n",
    "#Best Optimizer: Nadam\n",
    "#Best Learning Rate: 0.01\n",
    "#Best Batch Size: 4"
   ]
  },
  {
   "cell_type": "markdown",
   "metadata": {
    "id": "tggE3gaAVc_M"
   },
   "source": [
    "####Best LSTM Optimizer (150)"
   ]
  },
  {
   "cell_type": "code",
   "execution_count": null,
   "metadata": {
    "colab": {
     "base_uri": "https://localhost:8080/"
    },
    "id": "tWMgKXpmBN6F",
    "outputId": "9b577842-7f32-436c-bfb1-7bf0772a767c"
   },
   "outputs": [
    {
     "name": "stdout",
     "output_type": "stream",
     "text": [
      "Best RMSE for 150 Neuron LSTM Adam: 129.3791760222216\n",
      "Best RMSE for 150 Neuron LSTM Adagrad: 179.5527018451729\n",
      "Best RMSE for 150 Neuron LSTM Nadam: 131.9211405482529\n",
      "The best model for 150 neurons uses the Adam optimizer.\n"
     ]
    }
   ],
   "source": [
    "best_lstm_model_150 = []\n",
    "\n",
    "model_result1 = float(input(\"Best RMSE for 150 Neuron LSTM Adam: \"))  #129.3791760222216\n",
    "best_lstm_model_150.append(model_result1)\n",
    "model_result2 = float(input(\"Best RMSE for 150 Neuron LSTM Adagrad: \")) #179.5527018451729\n",
    "best_lstm_model_150.append(model_result2)\n",
    "model_result3 = float(input(\"Best RMSE for 150 Neuron LSTM Nadam: \")) #131.9211405482529\n",
    "best_lstm_model_150.append(model_result3)\n",
    "\n",
    "best_lstm_150 = min(best_lstm_model_150)\n",
    "\n",
    "if best_lstm_150 == best_lstm_model_150[0]:\n",
    "    print(\"The best model for 150 neurons uses the Adam optimizer.\")\n",
    "elif best_lstm_150 == best_lstm_model_150[1]:\n",
    "    print(\"The best model for 150 neurons uses the Adagrad optimizer.\")\n",
    "elif best_lstm_150 == best_lstm_model_150[2]:\n",
    "    print(\"The best model for 150 neurons uses the Nadam optimizer.\")"
   ]
  },
  {
   "cell_type": "markdown",
   "metadata": {
    "id": "3m_JOCBVVoT8"
   },
   "source": [
    "####GRU (150)"
   ]
  },
  {
   "cell_type": "code",
   "execution_count": null,
   "metadata": {
    "id": "3LVIAT36uRLx"
   },
   "outputs": [],
   "source": [
    "best_gru_models_150_adam = hyperparameter_tuning('GRU', 150, 'Adam')\n",
    "#Best Model: GRU\n",
    "#Best Average RMSE: 226.68576617617623\n",
    "#Best Optimizer: Adam\n",
    "#Best Learning Rate: 0.1\n",
    "#Best Batch Size: 4"
   ]
  },
  {
   "cell_type": "code",
   "execution_count": null,
   "metadata": {
    "id": "wydZZG9MuRLx"
   },
   "outputs": [],
   "source": [
    "best_gru_models_150_adagrad = hyperparameter_tuning('GRU', 150,'Adagrad')\n",
    "#Best Model: GRU\n",
    "#Best Average RMSE: 252.65691349234635\n",
    "#Best Optimizer: Adagrad\n",
    "#Best Learning Rate: 0.1\n",
    "#Best Batch Size: 8"
   ]
  },
  {
   "cell_type": "code",
   "execution_count": null,
   "metadata": {
    "colab": {
     "background_save": true
    },
    "id": "u7SBM3xyuRLy"
   },
   "outputs": [],
   "source": [
    "best_gru_models_150_nadam = hyperparameter_tuning('GRU', 150, 'Nadam')\n",
    "#Best Model: GRU\n",
    "#Best Average RMSE: 228.31467602975036\n",
    "#Best Optimizer: Nadam\n",
    "#Best Learning Rate: 0.1\n",
    "#Best Batch Size: 16"
   ]
  },
  {
   "cell_type": "markdown",
   "metadata": {
    "id": "qK_g_xoiRke5"
   },
   "source": [
    "####Best GRU Optimizer (150)"
   ]
  },
  {
   "cell_type": "code",
   "execution_count": null,
   "metadata": {
    "colab": {
     "base_uri": "https://localhost:8080/"
    },
    "id": "iEVV9A0DSaLv",
    "outputId": "7d10c842-1e7f-42cf-de74-a6bcb7a89f2a"
   },
   "outputs": [
    {
     "name": "stdout",
     "output_type": "stream",
     "text": [
      "Best RMSE for 150 Neuron GRU Adam: 226.68576617617623\n",
      "Best RMSE for 150 Neuron GRU Adagrad: 252.65691349234635\n",
      "Best RMSE for 150 Neuron GRU Nadam: 228.31467602975036\n",
      "The best model for GRU of 150 neurons uses the Adam optimizer.\n"
     ]
    }
   ],
   "source": [
    "best_gru_model_150 = []\n",
    "\n",
    "model_result1 = float(input(\"Best RMSE for 150 Neuron GRU Adam: \")) #226.68576617617623\n",
    "best_gru_model_150.append(model_result1)\n",
    "model_result2 = float(input(\"Best RMSE for 150 Neuron GRU Adagrad: \"))  #252.65691349234635\n",
    "best_gru_model_150.append(model_result2)\n",
    "model_result3 = float(input(\"Best RMSE for 150 Neuron GRU Nadam: \"))  #228.31467602975036\n",
    "best_gru_model_150.append(model_result3)\n",
    "\n",
    "best_gru_150 = min(best_gru_model_150)\n",
    "\n",
    "if best_gru_150 == best_gru_model_150[0]:\n",
    "    print(\"The best model for GRU of 150 neurons uses the Adam optimizer.\")\n",
    "elif best_gru_150 == best_gru_model_150[1]:\n",
    "    print(\"The best model for GRU of 150 neurons uses the Adagrad optimizer.\")\n",
    "elif best_gru_150 == best_gru_model_150[2]:\n",
    "    print(\"The best model for GRU of 150 neurons uses the Nadam optimizer.\")"
   ]
  },
  {
   "cell_type": "markdown",
   "metadata": {
    "id": "Mg_nta_IuSBc"
   },
   "source": [
    "### **Models with 200 Neurons**"
   ]
  },
  {
   "cell_type": "markdown",
   "metadata": {
    "id": "x_bzlQ2uVs8Z"
   },
   "source": [
    "####LSTM (200)"
   ]
  },
  {
   "cell_type": "code",
   "execution_count": null,
   "metadata": {
    "id": "19Ak948juSBc"
   },
   "outputs": [],
   "source": [
    "best_lstm_models_200_adam = hyperparameter_tuning('LSTM', 200,  'Adam')\n",
    "#Best Model: LSTM\n",
    "#Best Average RMSE: 134.1104268081266\n",
    "#Best Optimizer: Adam\n",
    "#Best Learning Rate: 0.01\n",
    "#Best Batch Size: 4"
   ]
  },
  {
   "cell_type": "code",
   "execution_count": null,
   "metadata": {
    "id": "EpM-ZkAxuSBc"
   },
   "outputs": [],
   "source": [
    "best_lstm_models_200_adagrad = hyperparameter_tuning('LSTM', 200,  'Adagrad')\n",
    "#Best Model: LSTM\n",
    "#Best Average RMSE: 139.42041835364822\n",
    "#Best Optimizer: Adagrad\n",
    "#Best Learning Rate: 0.1\n",
    "#Best Batch Size: 4"
   ]
  },
  {
   "cell_type": "code",
   "execution_count": null,
   "metadata": {
    "id": "mw6d6cfCuSBd"
   },
   "outputs": [],
   "source": [
    "best_lstm_models_200_nadam = hyperparameter_tuning('LSTM', 200, 'Nadam')\n",
    "#Best Model: LSTM\n",
    "#Best Average RMSE: 142.20779794125852\n",
    "#Best Optimizer: Nadam\n",
    "#Best Learning Rate: 0.01\n",
    "#Best Batch Size: 4"
   ]
  },
  {
   "cell_type": "markdown",
   "metadata": {
    "id": "ZfWPwSPuVwMQ"
   },
   "source": [
    "####Best LSTM Optimizer (200)"
   ]
  },
  {
   "cell_type": "code",
   "execution_count": null,
   "metadata": {
    "colab": {
     "base_uri": "https://localhost:8080/"
    },
    "id": "8eytemJ-BeA-",
    "outputId": "d62e1f8a-7d66-475f-826a-58831df3012d"
   },
   "outputs": [
    {
     "name": "stdout",
     "output_type": "stream",
     "text": [
      "Best RMSE for 200 Neuron LSTM Adam: 134.1104268081266\n",
      "Best RMSE for 200 Neuron LSTM Adagrad: 139.42041835364822\n",
      "Best RMSE for 200 Neuron LSTM Nadam: 142.20779794125852\n",
      "The best model for 200 neurons uses the Adam optimizer.\n"
     ]
    }
   ],
   "source": [
    "best_lstm_model_200 = []\n",
    "\n",
    "model_result1 = float(input(\"Best RMSE for 200 Neuron LSTM Adam: \"))  #134.1104268081266\n",
    "best_lstm_model_200.append(model_result1)\n",
    "model_result2 = float(input(\"Best RMSE for 200 Neuron LSTM Adagrad: \")) #139.42041835364822\n",
    "best_lstm_model_200.append(model_result2)\n",
    "model_result3 = float(input(\"Best RMSE for 200 Neuron LSTM Nadam: \")) #142.20779794125852\n",
    "best_lstm_model_200.append(model_result3)\n",
    "\n",
    "best_lstm_200 = min(best_lstm_model_200)\n",
    "\n",
    "if best_lstm_200 == best_lstm_model_200[0]:\n",
    "    print(\"The best model for 200 neurons uses the Adam optimizer.\")\n",
    "elif best_lstm_200 == best_lstm_model_200[1]:\n",
    "    print(\"The best model for 200 neurons uses the Adagrad optimizer.\")\n",
    "elif best_lstm_200 == best_lstm_model_200[2]:\n",
    "    print(\"The best model for 200 neurons uses the Nadam optimizer.\")"
   ]
  },
  {
   "cell_type": "markdown",
   "metadata": {
    "id": "MZuc5mXcWeB7"
   },
   "source": [
    "####GRU (200)"
   ]
  },
  {
   "cell_type": "code",
   "execution_count": null,
   "metadata": {
    "id": "tPffhX33Tua9"
   },
   "outputs": [],
   "source": [
    "best_gru_models_200_adam = hyperparameter_tuning('GRU', 200, 'Adam')\n",
    "#Best Model: GRU\n",
    "#Best Average RMSE: 194.09689128469867\n",
    "#Best Optimizer: Adam\n",
    "#Best Learning Rate: 0.1\n",
    "#Best Batch Size: 8"
   ]
  },
  {
   "cell_type": "code",
   "execution_count": null,
   "metadata": {
    "id": "dEGUHx_BuSBd"
   },
   "outputs": [],
   "source": [
    "best_gru_models_200_adagrad = hyperparameter_tuning('GRU', 200, 'Adagrad')\n",
    "#Best Model: GRU\n",
    "#Best Average RMSE: 226.6752014317824\n",
    "#Best Optimizer: Adagrad\n",
    "#Best Learning Rate: 0.1\n",
    "#Best Batch Size: 8"
   ]
  },
  {
   "cell_type": "code",
   "execution_count": null,
   "metadata": {
    "id": "gWv0F9YeuSBd"
   },
   "outputs": [],
   "source": [
    "best_gru_models_200_nadam = hyperparameter_tuning('GRU', 200, 'Nadam')\n",
    "#Best Model: GRU\n",
    "#Best Average RMSE: 221.64650023223402\n",
    "#Best Optimizer: Nadam\n",
    "#Best Learning Rate: 0.1\n",
    "#Best Batch Size: 8"
   ]
  },
  {
   "cell_type": "markdown",
   "metadata": {
    "id": "lsik_nSNRNXP"
   },
   "source": [
    "####Best GRU Optimizer (200)"
   ]
  },
  {
   "cell_type": "code",
   "execution_count": null,
   "metadata": {
    "colab": {
     "base_uri": "https://localhost:8080/"
    },
    "id": "4ikFoEsZBeA_",
    "outputId": "74797d20-82dd-4552-87fd-ab0ddeeb1697"
   },
   "outputs": [
    {
     "name": "stdout",
     "output_type": "stream",
     "text": [
      "Best RMSE for 200 Neuron GRU Adam: 194.09689128469867\n",
      "Best RMSE for 200 Neuron GRU Adagrad: 226.6752014317824\n",
      "Best RMSE for 200 Neuron GRU Nadam: 221.64650023223402\n",
      "The best model for GRU of 200 neurons uses the Adam optimizer.\n"
     ]
    }
   ],
   "source": [
    "best_gru_model_200 = []\n",
    "\n",
    "model_result1 = float(input(\"Best RMSE for 200 Neuron GRU Adam: \")) #194.09689128469867\n",
    "best_gru_model_200.append(model_result1)\n",
    "model_result2 = float(input(\"Best RMSE for 200 Neuron GRU Adagrad: \"))  #226.6752014317824\n",
    "best_gru_model_200.append(model_result2)\n",
    "model_result3 = float(input(\"Best RMSE for 200 Neuron GRU Nadam: \"))  #221.64650023223402\n",
    "best_gru_model_200.append(model_result3)\n",
    "\n",
    "best_gru_200 = min(best_gru_model_200)\n",
    "\n",
    "if best_gru_200 == best_gru_model_200[0]:\n",
    "    print(\"The best model for GRU of 200 neurons uses the Adam optimizer.\")\n",
    "elif best_gru_200 == best_gru_model_200[1]:\n",
    "    print(\"The best model for GRU of 200 neurons uses the Adagrad optimizer.\")\n",
    "elif best_gru_200 == best_gru_model_200[2]:\n",
    "    print(\"The best model for GRU of 200 neurons uses the Nadam optimizer.\")"
   ]
  },
  {
   "cell_type": "markdown",
   "metadata": {
    "id": "0ylVDoFLjtAo"
   },
   "source": [
    "## **Best Model Selection**"
   ]
  },
  {
   "cell_type": "markdown",
   "metadata": {
    "id": "Sf8ugKCUWsaK"
   },
   "source": [
    "###**Overall Best LSTM Model**"
   ]
  },
  {
   "cell_type": "code",
   "execution_count": null,
   "metadata": {
    "colab": {
     "base_uri": "https://localhost:8080/",
     "height": 250
    },
    "id": "l2mJ7fhAEc2b",
    "outputId": "137e369c-dee0-4e87-b012-8489654ec700"
   },
   "outputs": [
    {
     "ename": "NameError",
     "evalue": "ignored",
     "output_type": "error",
     "traceback": [
      "\u001b[0;31m---------------------------------------------------------------------------\u001b[0m",
      "\u001b[0;31mNameError\u001b[0m                                 Traceback (most recent call last)",
      "\u001b[0;32m<ipython-input-27-62e0cabe3f63>\u001b[0m in \u001b[0;36m<cell line: 1>\u001b[0;34m()\u001b[0m\n\u001b[0;32m----> 1\u001b[0;31m \u001b[0mbest_lstm\u001b[0m \u001b[0;34m=\u001b[0m \u001b[0;34m[\u001b[0m\u001b[0mbest_lstm_10\u001b[0m\u001b[0;34m,\u001b[0m \u001b[0mbest_lstm_30\u001b[0m\u001b[0;34m,\u001b[0m \u001b[0mbest_lstm_50\u001b[0m\u001b[0;34m,\u001b[0m \u001b[0mbest_lstm_100\u001b[0m\u001b[0;34m,\u001b[0m \u001b[0mbest_lstm_150\u001b[0m\u001b[0;34m,\u001b[0m \u001b[0mbest_lstm_200\u001b[0m\u001b[0;34m]\u001b[0m\u001b[0;34m\u001b[0m\u001b[0;34m\u001b[0m\u001b[0m\n\u001b[0m\u001b[1;32m      2\u001b[0m \u001b[0mbest_lstm_n\u001b[0m \u001b[0;34m=\u001b[0m \u001b[0mmin\u001b[0m\u001b[0;34m(\u001b[0m\u001b[0mbest_lstm\u001b[0m\u001b[0;34m)\u001b[0m\u001b[0;34m\u001b[0m\u001b[0;34m\u001b[0m\u001b[0m\n\u001b[1;32m      3\u001b[0m \u001b[0;32mif\u001b[0m \u001b[0mbest_lstm_n\u001b[0m \u001b[0;34m==\u001b[0m \u001b[0mbest_lstm\u001b[0m\u001b[0;34m[\u001b[0m\u001b[0;36m0\u001b[0m\u001b[0;34m]\u001b[0m\u001b[0;34m:\u001b[0m\u001b[0;34m\u001b[0m\u001b[0;34m\u001b[0m\u001b[0m\n\u001b[1;32m      4\u001b[0m     \u001b[0mprint\u001b[0m\u001b[0;34m(\u001b[0m\u001b[0;34m\"The best neurons for LSTM are 10. Refer to 10 neurons for hyperparameters.\"\u001b[0m\u001b[0;34m)\u001b[0m\u001b[0;34m\u001b[0m\u001b[0;34m\u001b[0m\u001b[0m\n\u001b[1;32m      5\u001b[0m \u001b[0;32melif\u001b[0m \u001b[0mbest_lstm_n\u001b[0m \u001b[0;34m==\u001b[0m \u001b[0mbest_lstm\u001b[0m\u001b[0;34m[\u001b[0m\u001b[0;36m1\u001b[0m\u001b[0;34m]\u001b[0m\u001b[0;34m:\u001b[0m\u001b[0;34m\u001b[0m\u001b[0;34m\u001b[0m\u001b[0m\n",
      "\u001b[0;31mNameError\u001b[0m: name 'best_lstm_10' is not defined"
     ]
    }
   ],
   "source": [
    "#this works I just accidentally ran it!\n",
    "best_lstm = [best_lstm_10, best_lstm_30, best_lstm_50, best_lstm_100, best_lstm_150, best_lstm_200]\n",
    "best_lstm_n = min(best_lstm)\n",
    "if best_lstm_n == best_lstm[0]:\n",
    "    print(\"The best neurons for LSTM are 10. Refer to 10 neurons for hyperparameters.\")\n",
    "elif best_lstm_n == best_lstm[1]:\n",
    "    print(\"The best neurons for LSTM are 30. Refer to 30 neurons for hyperparameters.\")\n",
    "elif best_lstm_n == best_lstm[2]:\n",
    "    print(\"The best neurons for LSTM are 50. Refer to 50 neurons for hyperparameters.\")\n",
    "elif best_lstm_n == best_lstm[3]:\n",
    "    print(\"The best neurons for LSTM are 100. Refer to 100 neurons for hyperparameters.\")\n",
    "elif best_lstm_n == best_lstm[4]:\n",
    "    print(\"The best neurons for LSTM are 150. Refer to 150 neurons for hyperparameters.\")\n",
    "elif best_lstm_n == best_lstm[5]:\n",
    "    print(\"The best neurons for LSTM are 200. Refer to 200 neurons for hyperparameters.\")"
   ]
  },
  {
   "cell_type": "markdown",
   "metadata": {
    "id": "so5eXAowW1cR"
   },
   "source": [
    "\n",
    "\n",
    "```\n",
    "# This is formatted as code\n",
    "```\n",
    "\n",
    "- The best performing LSTM model has the following hyperparameters, with 119.15 RMSE under 100 neurons:\n",
    "  - Best Optimizer: Nadam\n",
    "  - Best Learning Rate: 0.01\n",
    "  - Best Batch Size: 4"
   ]
  },
  {
   "cell_type": "markdown",
   "metadata": {
    "id": "DfJII5VYWzCp"
   },
   "source": [
    "###**Overall Best GRU Model**"
   ]
  },
  {
   "cell_type": "code",
   "execution_count": null,
   "metadata": {
    "id": "uWPbKWNhGmkX"
   },
   "outputs": [],
   "source": [
    "best_gru = [best_gru_10, best_gru_30, best_gru_50, best_gru_100, best_gru_150, best_gru_200]\n",
    "best_gru_n = min(best_gru)\n",
    "if best_gru_n == best_gru[0]:\n",
    "    print(\"The best neurons for GRU are 10. Refer to 10 neurons section for hyperparameters.\")\n",
    "elif best_gru_n == best_gru[1]:\n",
    "    print(\"The best neurons for GRU are 30. Refer to 30 neurons section for hyperparameters.\")\n",
    "elif best_gru_n == best_gru[2]:\n",
    "    print(\"The best neurons for GRU are 50. Refer to 50 neurons section for hyperparameters.\")\n",
    "elif best_gru_n == best_gru[3]:\n",
    "    print(\"The best neurons for GRU are 100. Refer to 100 neurons section for hyperparameters.\")\n",
    "elif best_gru_n == best_gru[4]:\n",
    "    print(\"The best neurons for GRU are 150. Refer to 150 neurons section for hyperparameters.\")\n",
    "elif best_gru_n == best_gru[5]:\n",
    "    print(\"The best neurons for GRU are 200. Refer to 200 neurons section for hyperparameters.\")"
   ]
  },
  {
   "cell_type": "markdown",
   "metadata": {
    "id": "8qLVdGMWW2H4"
   },
   "source": [
    "- The best performing GRU model has the following hyperparameters, with 158.42 RMSE under 50 neurons:\n",
    "  - Best Optimizer: Nadam\n",
    "  - Best Learning Rate: 0.01\n",
    "  - Best Batch Size: 4"
   ]
  },
  {
   "cell_type": "markdown",
   "metadata": {
    "id": "qHJmkG0zYmfT"
   },
   "source": [
    "###**Overall Best Model**"
   ]
  },
  {
   "cell_type": "code",
   "execution_count": null,
   "metadata": {
    "id": "mTeKYvvmYuK7"
   },
   "outputs": [],
   "source": [
    "best = [best_lstm_n, best_gru_n]\n",
    "overall_best = min(best)\n",
    "if overall_best == best[0]:\n",
    "    print(\"The overall best model is the LSTM model. Refer to the Best LSTM Model Section for best neurons and hyperparameters.\")\n",
    "else:\n",
    "    print(\"The overall best model is the GRU model. Refer to the Best GRU Model Section for best neurons and hyperparameters.\")"
   ]
  },
  {
   "cell_type": "markdown",
   "metadata": {
    "id": "AY1oZ-h7aNcr"
   },
   "source": [
    "- The overall best performing model is the LSTM model of 119.15 RMSE, with 100 neurons, Adagrad optimizer, 0.01 learning rate, and a batch size of 4."
   ]
  },
  {
   "cell_type": "markdown",
   "metadata": {
    "id": "W1inYZ1RkM3b"
   },
   "source": [
    "## **Model Prediction**"
   ]
  },
  {
   "cell_type": "markdown",
   "metadata": {
    "id": "GFt7s1vMR-bh"
   },
   "source": [
    "- Run the best overall model and create the prediction plot for that model, with 30 replicates."
   ]
  },
  {
   "cell_type": "markdown",
   "metadata": {
    "id": "0nzSCSOpY9gk"
   },
   "source": [
    "- For the overall best model, plot the prediction plot with true values and get other visualization as in the paper."
   ]
  },
  {
   "cell_type": "markdown",
   "metadata": {
    "id": "dv9gvXhqsyrx"
   },
   "source": [
    "- The best performing LSTM model has the following hyperparameters, with 119.15 RMSE under 100 neurons:\n",
    "  - Best Optimizer: Nadam\n",
    "  - Best Learning Rate: 0.01\n",
    "  - Best Batch Size: 4"
   ]
  },
  {
   "cell_type": "code",
   "execution_count": null,
   "metadata": {
    "id": "59MOfTPnqIIU"
   },
   "outputs": [],
   "source": [
    "end_model = build_lstm_model(100, 'Nadam', 0.01)"
   ]
  },
  {
   "cell_type": "code",
   "execution_count": null,
   "metadata": {
    "colab": {
     "base_uri": "https://localhost:8080/"
    },
    "id": "L0IwSyWXZMPc",
    "outputId": "6f7c9cf0-d210-4aa4-9ca5-996f3db7d4a8"
   },
   "outputs": [
    {
     "name": "stdout",
     "output_type": "stream",
     "text": [
      "Epoch 1/50\n",
      "452/452 [==============================] - 12s 14ms/step - loss: 7013.0801\n",
      "Epoch 2/50\n",
      "452/452 [==============================] - 11s 25ms/step - loss: 2031.6772\n",
      "Epoch 3/50\n",
      "452/452 [==============================] - 10s 21ms/step - loss: 137.3672\n",
      "Epoch 4/50\n",
      "452/452 [==============================] - 12s 27ms/step - loss: 78.4783\n",
      "Epoch 5/50\n",
      "452/452 [==============================] - 10s 22ms/step - loss: 53.3551\n",
      "Epoch 6/50\n",
      "452/452 [==============================] - 5s 12ms/step - loss: 30.3274\n",
      "Epoch 7/50\n",
      "452/452 [==============================] - 8s 17ms/step - loss: 28.0343\n",
      "Epoch 8/50\n",
      "452/452 [==============================] - 8s 18ms/step - loss: 24.6774\n",
      "Epoch 9/50\n",
      "452/452 [==============================] - 9s 20ms/step - loss: 24.1523\n",
      "Epoch 10/50\n",
      "452/452 [==============================] - 8s 19ms/step - loss: 23.5255\n",
      "Epoch 11/50\n",
      "452/452 [==============================] - 6s 14ms/step - loss: 19.8378\n",
      "Epoch 12/50\n",
      "452/452 [==============================] - 6s 13ms/step - loss: 21.1644\n",
      "Epoch 13/50\n",
      "452/452 [==============================] - 8s 18ms/step - loss: 21.7454\n",
      "Epoch 14/50\n",
      "452/452 [==============================] - 7s 16ms/step - loss: 28.3033\n",
      "Epoch 15/50\n",
      "452/452 [==============================] - 6s 13ms/step - loss: 18.7206\n",
      "Epoch 16/50\n",
      "452/452 [==============================] - 7s 16ms/step - loss: 19.6498\n",
      "Epoch 17/50\n",
      "452/452 [==============================] - 8s 17ms/step - loss: 19.0320\n",
      "Epoch 18/50\n",
      "452/452 [==============================] - 6s 13ms/step - loss: 17.8727\n",
      "Epoch 19/50\n",
      "452/452 [==============================] - 7s 15ms/step - loss: 15.1828\n",
      "Epoch 20/50\n",
      "452/452 [==============================] - 8s 18ms/step - loss: 22.3952\n",
      "Epoch 21/50\n",
      "452/452 [==============================] - 6s 13ms/step - loss: 18.0974\n",
      "Epoch 22/50\n",
      "452/452 [==============================] - 6s 13ms/step - loss: 14.0919\n",
      "Epoch 23/50\n",
      "452/452 [==============================] - 8s 17ms/step - loss: 13.4824\n",
      "Epoch 24/50\n",
      "452/452 [==============================] - 7s 16ms/step - loss: 13.9487\n",
      "Epoch 25/50\n",
      "452/452 [==============================] - 5s 12ms/step - loss: 14.1019\n",
      "Epoch 26/50\n",
      "452/452 [==============================] - 8s 17ms/step - loss: 12.6806\n",
      "Epoch 27/50\n",
      "452/452 [==============================] - 8s 17ms/step - loss: 11.3799\n",
      "Epoch 28/50\n",
      "452/452 [==============================] - 6s 13ms/step - loss: 12.0801\n",
      "Epoch 29/50\n",
      "452/452 [==============================] - 7s 15ms/step - loss: 11.4029\n",
      "Epoch 30/50\n",
      "452/452 [==============================] - 8s 17ms/step - loss: 11.4618\n",
      "Epoch 31/50\n",
      "452/452 [==============================] - 5s 12ms/step - loss: 11.3230\n",
      "Epoch 32/50\n",
      "452/452 [==============================] - 6s 13ms/step - loss: 11.3868\n",
      "Epoch 33/50\n",
      "452/452 [==============================] - 8s 17ms/step - loss: 11.6884\n",
      "Epoch 34/50\n",
      "452/452 [==============================] - 7s 15ms/step - loss: 12.3562\n",
      "Epoch 35/50\n",
      "452/452 [==============================] - 6s 12ms/step - loss: 10.8417\n",
      "Epoch 36/50\n",
      "452/452 [==============================] - 8s 17ms/step - loss: 10.0597\n",
      "Epoch 37/50\n",
      "452/452 [==============================] - 8s 17ms/step - loss: 11.5034\n",
      "Epoch 38/50\n",
      "452/452 [==============================] - 6s 12ms/step - loss: 9.7245\n",
      "Epoch 39/50\n",
      "452/452 [==============================] - 7s 15ms/step - loss: 8.4041\n",
      "Epoch 40/50\n",
      "452/452 [==============================] - 9s 21ms/step - loss: 9.2397\n",
      "Epoch 41/50\n",
      "452/452 [==============================] - 6s 13ms/step - loss: 8.1458\n",
      "Epoch 42/50\n",
      "452/452 [==============================] - 6s 14ms/step - loss: 9.5796\n",
      "Epoch 43/50\n",
      "452/452 [==============================] - 9s 19ms/step - loss: 8.8426\n",
      "Epoch 44/50\n",
      "452/452 [==============================] - 6s 14ms/step - loss: 8.0856\n",
      "Epoch 45/50\n",
      "452/452 [==============================] - 6s 13ms/step - loss: 7.8806\n",
      "Epoch 46/50\n",
      "452/452 [==============================] - 8s 18ms/step - loss: 8.5671\n",
      "Epoch 47/50\n",
      "452/452 [==============================] - 7s 16ms/step - loss: 8.0454\n",
      "Epoch 48/50\n",
      "452/452 [==============================] - 5s 12ms/step - loss: 7.4459\n",
      "Epoch 49/50\n",
      "452/452 [==============================] - 7s 16ms/step - loss: 8.9944\n",
      "Epoch 50/50\n",
      "452/452 [==============================] - 8s 18ms/step - loss: 7.4774\n",
      "15/15 [==============================] - 1s 6ms/step\n"
     ]
    }
   ],
   "source": [
    "end_model.fit(X_train, y_train, epochs=50, batch_size=4)\n",
    "y_pred = end_model.predict(X_test)"
   ]
  },
  {
   "cell_type": "code",
   "execution_count": null,
   "metadata": {
    "id": "0nerEYZcayPl"
   },
   "outputs": [],
   "source": [
    "split_index = int(len(X) * (0.8))\n",
    "sequence_length = 5"
   ]
  },
  {
   "cell_type": "code",
   "execution_count": null,
   "metadata": {
    "colab": {
     "base_uri": "https://localhost:8080/",
     "height": 564
    },
    "id": "7bqmvGmbZGcz",
    "outputId": "42c2caf9-669f-4345-eed1-af14b0b2787c"
   },
   "outputs": [
    {
     "data": {
      "image/png": "[encoded data removed]",
      "text/plain": [
       "<Figure size 1200x600 with 1 Axes>"
      ]
     },
     "metadata": {},
     "output_type": "display_data"
    }
   ],
   "source": [
    "plt.figure(figsize=(12, 6))\n",
    "\n",
    "plt.plot(data.index[split_index + sequence_length+1:], y_test, label='Actual Closing Price')\n",
    "plt.plot(data.index[split_index + sequence_length+1:], y_pred, label='Predicted Closing Price')\n",
    "plt.title('Closing price of ESG with Best Model')\n",
    "plt.xlabel('Time')\n",
    "plt.ylabel('Closing Price')\n",
    "plt.grid(True)\n",
    "plt.legend()\n",
    "plt.show()"
   ]
  },
  {
   "cell_type": "code",
   "execution_count": null,
   "metadata": {
    "id": "DytyVe88iqn7"
   },
   "outputs": [],
   "source": [
    "\n",
    "def mean_absolute_percentage_error2(y_true, y_pred):\n",
    "    return np.mean(np.abs((y_true - y_pred)/(y_true))*100)\n",
    "\n",
    "def mean_absolute_percentage_error(y_true, y_pred):\n",
    "    denominator = np.abs(y_true)\n",
    "    mask = denominator > 0\n",
    "    mape = np.mean(np.abs((y_true[mask] - y_pred[mask]) / denominator[mask])) * 100\n",
    "    return mape\n",
    "def calculate_scores(y_true, y_pred):\n",
    "    rmse = math.sqrt(mean_squared_error(y_true, y_pred))\n",
    "    R = np.corrcoef(y_true, y_pred)[0, 1]\n",
    "    mape = mean_absolute_percentage_error(y_true, y_pred)\n",
    "\n",
    "    # Check if R is a scalar\n",
    "    if np.isscalar(R):\n",
    "        R_value = R\n",
    "    else:\n",
    "        R_value = R[0, 1]\n",
    "\n",
    "    dic = {'rmse': rmse, 'R': R_value, 'mape': mape}\n",
    "    return dic\n",
    "def calculate_scores2(y_true, y_pred):\n",
    "  rmse = math.sqrt(mean_squared_error(y_true, y_pred))\n",
    "  R = np.corrcoef(y_true, y_pred)[0, 1]\n",
    "  mape = mean_absolute_percentage_error(y_true, y_pred)\n",
    "  dic = {'rmse':rmse, 'R': R[0,1], 'mape': mape}\n",
    "  return (dic)"
   ]
  },
  {
   "cell_type": "code",
   "execution_count": null,
   "metadata": {
    "id": "WbblVzyP0xRf"
   },
   "outputs": [],
   "source": [
    "#========== Model hyper parameters settting ==========================#\n",
    "def LSTM_model(neurons,  epochs = 50,  num_replicates = 30):\n",
    "\n",
    "  num_features = X_train.shape[1]\n",
    "\n",
    "  print(\"Progress: Building and training models.......\\n\")\n",
    "\n",
    "  neurons = int(neurons)\n",
    "  #============ arrays for collecting test scores ================#\n",
    "  rmse_array = np.zeros(num_replicates)\n",
    "  mape_array = np.zeros(num_replicates)\n",
    "-0  R_array    = np.zeros(num_replicates)\n",
    "  elapsed_time_array = np.zeros(num_replicates)\n",
    "\n",
    "\n",
    "  #========== array for collecting history and predictions =======#\n",
    "  models_history = []\n",
    "  train_predictions = []\n",
    "  test_predictions  = []\n",
    "\n",
    "\n",
    "\n",
    "  #========== saving history and predictions per replicate=====#\n",
    "  model_history_per_replicate = []\n",
    "  train_predictions_per_replicate = []\n",
    "  test_predictions_per_replicate  = []\n",
    "\n",
    "  hidden_nodes = int(neurons)\n",
    "\n",
    "  for k in range(0,num_replicates):\n",
    "\n",
    "    print(\"Program is running for %d replicate ----->\\n\" %(k))\n",
    "\n",
    "    model = build_lstm_model(100, 'Nadam', 0.01)\n",
    "    callback = tf.keras.callbacks.EarlyStopping(monitor='loss', patience= 5)\n",
    "    start = time.time()\n",
    "    history = model.fit(X_train, y_train, batch_size = 4, epochs= epochs, callbacks=[callback], verbose = 1)\n",
    "    end = time.time()\n",
    "    elapsed_time = end - start\n",
    "\n",
    "    model_history_per_replicate.append(history)\n",
    "\n",
    "    train_pred   =  model.predict(X_train)\n",
    "    test_pred    =  model.predict(X_test)\n",
    "\n",
    "    train_predictions_per_replicate.append(train_pred)\n",
    "    test_predictions_per_replicate.append(test_pred)\n",
    "\n",
    "    #============== Calculating performance scores=========\n",
    "    scores =   calculate_scores(y_test,test_pred)\n",
    "    rmse_array[k] = scores['rmse']\n",
    "    mape_array[k] =  scores['mape']\n",
    "    R_array[k] = scores['R']\n",
    "    elapsed_time_array[k] = elapsed_time\n",
    "\n",
    "    models_history.append(model_history_per_replicate)\n",
    "    train_predictions.append(train_predictions_per_replicate)\n",
    "    test_predictions.append(test_predictions_per_replicate)\n",
    "\n",
    "  print(\"Progress: Collecting outputs.......\\n\")\n",
    "\n",
    "  neurons_df = pd.DataFrame([neurons])\n",
    "  rmse_df = pd.DataFrame(rmse_array)\n",
    "  mape_df  = pd.DataFrame(mape_array)\n",
    "  R_df    = pd.DataFrame(R_array)\n",
    "  elapsed_time_df =  pd.DataFrame(elapsed_time_array)\n",
    "\n",
    "  train_predictions  = np.array(train_predictions)\n",
    "  test_predictions   = np.array(test_predictions)\n",
    "\n",
    "  # #==== Idendifying  the best model results based on rmse ===============#\n",
    "  min_index = pd.DataFrame(rmse_df.min(axis = 1)).idxmin()[0]\n",
    "  min_col = pd.DataFrame(rmse_df.min(axis=0)).idxmin().iloc[0]\n",
    "  num_neurons_with_best_rmse = neurons_df.iloc[min_index, 0]\n",
    "  best_rmse = rmse_df.iloc[min_index, min_col]\n",
    "  mape_with_best_rmse = mape_df.iloc[min_index, min_col]\n",
    "  R_with_best_rmse = R_df.iloc[min_index, min_col]\n",
    "  elapsed_time_with_best_rmse = elapsed_time_df.iloc[min_index, min_col]\n",
    "\n",
    "  train_predictions_with_best_rmse = train_predictions[min_index][min_col]\n",
    "  test_predictions_with_best_rmse = test_predictions[min_index][min_col]\n",
    "\n",
    "  loss_with_best_rmse = models_history[min_index][min_col].history['loss']\n",
    "  #val_loss_with_best_rmse = models_history[min_index][min_col].history['val_loss']\n",
    "\n",
    "  #======= Collecting hyperparameters=============#\n",
    "  hyper_parameters = { 'neurons': neurons,\n",
    "                       'epochs': epochs,\n",
    "                       'num_replicates': num_replicates\n",
    "                        }\n",
    "\n",
    "  #======= Collecting test scores =============#\n",
    "  scores = {'neurons': neurons_df, 'rmse': rmse_df, 'mape': mape_df, 'R': R_df, 'elapsed_time': elapsed_time_df}\n",
    "\n",
    "\n",
    "  #======= Collecting the best model results =============#\n",
    "  model_with_best_rmse = {  'neurons': num_neurons_with_best_rmse,\n",
    "                            'replicate': min_col,\n",
    "                            'rmse': best_rmse,\n",
    "                            'mape': mape_with_best_rmse,\n",
    "                            'R':  R_with_best_rmse,\n",
    "                            'elapsed_time': elapsed_time_with_best_rmse,\n",
    "                            'train_predictions':train_predictions_with_best_rmse,\n",
    "                            'test_predictions': test_predictions_with_best_rmse,\n",
    "                            'loss':loss_with_best_rmse,\n",
    "\n",
    "                         }\n",
    "\n",
    "\n",
    "  #======= Collecting all the outputs together =============#\n",
    "   # output_dictionary = { 'hyper_parameters': hyper_parameters,\n",
    "  output_dictionary = {'model_with_best_rmase':model_with_best_rmse,\n",
    "                        'train_predictions': train_predictions,\n",
    "                        'test_predictions':  test_predictions,\n",
    "                        'models_history': models_history\n",
    "\n",
    "                       }\n",
    "  print(\"\\nBest model (neurons, replicate, rmse): \", num_neurons_with_best_rmse, min_col, best_rmse)\n",
    "\n",
    "  print(\"\\nProgress: All works are done successfully, congratulations!!\\n\")"
   ]
  },
  {
   "cell_type": "code",
   "execution_count": null,
   "metadata": {
    "id": "5fjWtRi7fjqY"
   },
   "outputs": [],
   "source": [
    "model_output = LSTM_model(100, epochs = 2, num_replicates = 2)"
   ]
  }
 ],
 "metadata": {
  "accelerator": "TPU",
  "colab": {
   "collapsed_sections": [
    "P1TcKaVVqAj9",
    "_GCOQHGaYQI6",
    "eAWWQcs9eZIm",
    "YiYf0hBeemri",
    "MV6XocFk50Jt",
    "tTSRoy8Pt2wl",
    "jrFOO6I6TSC6",
    "wWJIXn90TVyd",
    "ouEzpRm6SW70",
    "ynQmkK8_e5DH",
    "rWbuuMDStWfQ",
    "rXv3qS3xT2Vh",
    "8--Mae64fzbn",
    "xWysLc1GSRDg",
    "V_OFeBMEPgQj",
    "WE-VQetBtu-R",
    "Dq120fSTUTt5",
    "pMGiasQqUWf8",
    "cr6ArzOOU0VO",
    "-i33clMIR2jm",
    "MnZvQ0_Ttv4r",
    "0CgnvzOiU6J4",
    "TmFi5s81U-G7",
    "rjByVI0TVQfD",
    "rTR7vHidQXbH",
    "M3tgrhoTuRLj",
    "JVJX1hklVZU2",
    "tggE3gaAVc_M",
    "3m_JOCBVVoT8",
    "qK_g_xoiRke5",
    "Mg_nta_IuSBc",
    "x_bzlQ2uVs8Z",
    "ZfWPwSPuVwMQ",
    "MZuc5mXcWeB7",
    "lsik_nSNRNXP",
    "Sf8ugKCUWsaK",
    "DfJII5VYWzCp"
   ],
   "provenance": []
  },
  "kernelspec": {
   "display_name": "Python 3 (ipykernel)",
   "language": "python",
   "name": "python3"
  },
  "language_info": {
   "codemirror_mode": {
    "name": "ipython",
    "version": 3
   },
   "file_extension": ".py",
   "mimetype": "text/x-python",
   "name": "python",
   "nbconvert_exporter": "python",
   "pygments_lexer": "ipython3",
   "version": "3.11.4"
  }
 },
 "nbformat": 4,
 "nbformat_minor": 1
}
